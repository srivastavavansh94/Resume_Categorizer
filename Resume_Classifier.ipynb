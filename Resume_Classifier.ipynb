{
  "nbformat": 4,
  "nbformat_minor": 0,
  "metadata": {
    "colab": {
      "provenance": [],
      "mount_file_id": "1F_yQdLGsV_0SaRTSUTOwpWzAI8lW8Ot9",
      "authorship_tag": "ABX9TyP9RpI0qlFzbQrzKkLV5+6i",
      "include_colab_link": true
    },
    "kernelspec": {
      "name": "python3",
      "display_name": "Python 3"
    },
    "language_info": {
      "name": "python"
    }
  },
  "cells": [
    {
      "cell_type": "markdown",
      "metadata": {
        "id": "view-in-github",
        "colab_type": "text"
      },
      "source": [
        "<a href=\"https://colab.research.google.com/github/srivastavavansh94/Resume_Categorizer/blob/main/Resume_Classifier.ipynb\" target=\"_parent\"><img src=\"https://colab.research.google.com/assets/colab-badge.svg\" alt=\"Open In Colab\"/></a>"
      ]
    },
    {
      "cell_type": "code",
      "execution_count": 6,
      "metadata": {
        "id": "ChPgXEwpbNbk"
      },
      "outputs": [],
      "source": [
        "import numpy as np\n",
        "import pandas as pd\n",
        "import seaborn as sns\n",
        "import matplotlib.pyplot as plt\n",
        "import warnings\n",
        "warnings.filterwarnings('ignore')"
      ]
    },
    {
      "cell_type": "code",
      "source": [
        "data = pd.read_csv('/content/drive/MyDrive/ResumeDataSet.csv')"
      ],
      "metadata": {
        "id": "-4IU_-rFeYGC"
      },
      "execution_count": 7,
      "outputs": []
    },
    {
      "cell_type": "code",
      "source": [
        "data.shape"
      ],
      "metadata": {
        "colab": {
          "base_uri": "https://localhost:8080/"
        },
        "id": "TeMTiNrqeia1",
        "outputId": "677e4066-010f-4a69-ed5e-637852d61768"
      },
      "execution_count": 8,
      "outputs": [
        {
          "output_type": "execute_result",
          "data": {
            "text/plain": [
              "(962, 2)"
            ]
          },
          "metadata": {},
          "execution_count": 8
        }
      ]
    },
    {
      "cell_type": "code",
      "source": [
        "data.head()"
      ],
      "metadata": {
        "colab": {
          "base_uri": "https://localhost:8080/",
          "height": 206
        },
        "id": "FkkIzU6kelMn",
        "outputId": "f2a11349-a3a3-4ec9-c388-d5d9dc8f0a74"
      },
      "execution_count": 9,
      "outputs": [
        {
          "output_type": "execute_result",
          "data": {
            "text/plain": [
              "       Category                                             Resume\n",
              "0  Data Science  Skills * Programming Languages: Python (pandas...\n",
              "1  Data Science  Education Details \\r\\nMay 2013 to May 2017 B.E...\n",
              "2  Data Science  Areas of Interest Deep Learning, Control Syste...\n",
              "3  Data Science  Skills â¢ R â¢ Python â¢ SAP HANA â¢ Table...\n",
              "4  Data Science  Education Details \\r\\n MCA   YMCAUST,  Faridab..."
            ],
            "text/html": [
              "\n",
              "  <div id=\"df-fb0c03cf-ddc8-43d2-a65b-41e73b52b78b\" class=\"colab-df-container\">\n",
              "    <div>\n",
              "<style scoped>\n",
              "    .dataframe tbody tr th:only-of-type {\n",
              "        vertical-align: middle;\n",
              "    }\n",
              "\n",
              "    .dataframe tbody tr th {\n",
              "        vertical-align: top;\n",
              "    }\n",
              "\n",
              "    .dataframe thead th {\n",
              "        text-align: right;\n",
              "    }\n",
              "</style>\n",
              "<table border=\"1\" class=\"dataframe\">\n",
              "  <thead>\n",
              "    <tr style=\"text-align: right;\">\n",
              "      <th></th>\n",
              "      <th>Category</th>\n",
              "      <th>Resume</th>\n",
              "    </tr>\n",
              "  </thead>\n",
              "  <tbody>\n",
              "    <tr>\n",
              "      <th>0</th>\n",
              "      <td>Data Science</td>\n",
              "      <td>Skills * Programming Languages: Python (pandas...</td>\n",
              "    </tr>\n",
              "    <tr>\n",
              "      <th>1</th>\n",
              "      <td>Data Science</td>\n",
              "      <td>Education Details \\r\\nMay 2013 to May 2017 B.E...</td>\n",
              "    </tr>\n",
              "    <tr>\n",
              "      <th>2</th>\n",
              "      <td>Data Science</td>\n",
              "      <td>Areas of Interest Deep Learning, Control Syste...</td>\n",
              "    </tr>\n",
              "    <tr>\n",
              "      <th>3</th>\n",
              "      <td>Data Science</td>\n",
              "      <td>Skills â¢ R â¢ Python â¢ SAP HANA â¢ Table...</td>\n",
              "    </tr>\n",
              "    <tr>\n",
              "      <th>4</th>\n",
              "      <td>Data Science</td>\n",
              "      <td>Education Details \\r\\n MCA   YMCAUST,  Faridab...</td>\n",
              "    </tr>\n",
              "  </tbody>\n",
              "</table>\n",
              "</div>\n",
              "    <div class=\"colab-df-buttons\">\n",
              "\n",
              "  <div class=\"colab-df-container\">\n",
              "    <button class=\"colab-df-convert\" onclick=\"convertToInteractive('df-fb0c03cf-ddc8-43d2-a65b-41e73b52b78b')\"\n",
              "            title=\"Convert this dataframe to an interactive table.\"\n",
              "            style=\"display:none;\">\n",
              "\n",
              "  <svg xmlns=\"http://www.w3.org/2000/svg\" height=\"24px\" viewBox=\"0 -960 960 960\">\n",
              "    <path d=\"M120-120v-720h720v720H120Zm60-500h600v-160H180v160Zm220 220h160v-160H400v160Zm0 220h160v-160H400v160ZM180-400h160v-160H180v160Zm440 0h160v-160H620v160ZM180-180h160v-160H180v160Zm440 0h160v-160H620v160Z\"/>\n",
              "  </svg>\n",
              "    </button>\n",
              "\n",
              "  <style>\n",
              "    .colab-df-container {\n",
              "      display:flex;\n",
              "      gap: 12px;\n",
              "    }\n",
              "\n",
              "    .colab-df-convert {\n",
              "      background-color: #E8F0FE;\n",
              "      border: none;\n",
              "      border-radius: 50%;\n",
              "      cursor: pointer;\n",
              "      display: none;\n",
              "      fill: #1967D2;\n",
              "      height: 32px;\n",
              "      padding: 0 0 0 0;\n",
              "      width: 32px;\n",
              "    }\n",
              "\n",
              "    .colab-df-convert:hover {\n",
              "      background-color: #E2EBFA;\n",
              "      box-shadow: 0px 1px 2px rgba(60, 64, 67, 0.3), 0px 1px 3px 1px rgba(60, 64, 67, 0.15);\n",
              "      fill: #174EA6;\n",
              "    }\n",
              "\n",
              "    .colab-df-buttons div {\n",
              "      margin-bottom: 4px;\n",
              "    }\n",
              "\n",
              "    [theme=dark] .colab-df-convert {\n",
              "      background-color: #3B4455;\n",
              "      fill: #D2E3FC;\n",
              "    }\n",
              "\n",
              "    [theme=dark] .colab-df-convert:hover {\n",
              "      background-color: #434B5C;\n",
              "      box-shadow: 0px 1px 3px 1px rgba(0, 0, 0, 0.15);\n",
              "      filter: drop-shadow(0px 1px 2px rgba(0, 0, 0, 0.3));\n",
              "      fill: #FFFFFF;\n",
              "    }\n",
              "  </style>\n",
              "\n",
              "    <script>\n",
              "      const buttonEl =\n",
              "        document.querySelector('#df-fb0c03cf-ddc8-43d2-a65b-41e73b52b78b button.colab-df-convert');\n",
              "      buttonEl.style.display =\n",
              "        google.colab.kernel.accessAllowed ? 'block' : 'none';\n",
              "\n",
              "      async function convertToInteractive(key) {\n",
              "        const element = document.querySelector('#df-fb0c03cf-ddc8-43d2-a65b-41e73b52b78b');\n",
              "        const dataTable =\n",
              "          await google.colab.kernel.invokeFunction('convertToInteractive',\n",
              "                                                    [key], {});\n",
              "        if (!dataTable) return;\n",
              "\n",
              "        const docLinkHtml = 'Like what you see? Visit the ' +\n",
              "          '<a target=\"_blank\" href=https://colab.research.google.com/notebooks/data_table.ipynb>data table notebook</a>'\n",
              "          + ' to learn more about interactive tables.';\n",
              "        element.innerHTML = '';\n",
              "        dataTable['output_type'] = 'display_data';\n",
              "        await google.colab.output.renderOutput(dataTable, element);\n",
              "        const docLink = document.createElement('div');\n",
              "        docLink.innerHTML = docLinkHtml;\n",
              "        element.appendChild(docLink);\n",
              "      }\n",
              "    </script>\n",
              "  </div>\n",
              "\n",
              "\n",
              "<div id=\"df-2d648aec-247a-4ce7-a90d-4db088386358\">\n",
              "  <button class=\"colab-df-quickchart\" onclick=\"quickchart('df-2d648aec-247a-4ce7-a90d-4db088386358')\"\n",
              "            title=\"Suggest charts\"\n",
              "            style=\"display:none;\">\n",
              "\n",
              "<svg xmlns=\"http://www.w3.org/2000/svg\" height=\"24px\"viewBox=\"0 0 24 24\"\n",
              "     width=\"24px\">\n",
              "    <g>\n",
              "        <path d=\"M19 3H5c-1.1 0-2 .9-2 2v14c0 1.1.9 2 2 2h14c1.1 0 2-.9 2-2V5c0-1.1-.9-2-2-2zM9 17H7v-7h2v7zm4 0h-2V7h2v10zm4 0h-2v-4h2v4z\"/>\n",
              "    </g>\n",
              "</svg>\n",
              "  </button>\n",
              "\n",
              "<style>\n",
              "  .colab-df-quickchart {\n",
              "      --bg-color: #E8F0FE;\n",
              "      --fill-color: #1967D2;\n",
              "      --hover-bg-color: #E2EBFA;\n",
              "      --hover-fill-color: #174EA6;\n",
              "      --disabled-fill-color: #AAA;\n",
              "      --disabled-bg-color: #DDD;\n",
              "  }\n",
              "\n",
              "  [theme=dark] .colab-df-quickchart {\n",
              "      --bg-color: #3B4455;\n",
              "      --fill-color: #D2E3FC;\n",
              "      --hover-bg-color: #434B5C;\n",
              "      --hover-fill-color: #FFFFFF;\n",
              "      --disabled-bg-color: #3B4455;\n",
              "      --disabled-fill-color: #666;\n",
              "  }\n",
              "\n",
              "  .colab-df-quickchart {\n",
              "    background-color: var(--bg-color);\n",
              "    border: none;\n",
              "    border-radius: 50%;\n",
              "    cursor: pointer;\n",
              "    display: none;\n",
              "    fill: var(--fill-color);\n",
              "    height: 32px;\n",
              "    padding: 0;\n",
              "    width: 32px;\n",
              "  }\n",
              "\n",
              "  .colab-df-quickchart:hover {\n",
              "    background-color: var(--hover-bg-color);\n",
              "    box-shadow: 0 1px 2px rgba(60, 64, 67, 0.3), 0 1px 3px 1px rgba(60, 64, 67, 0.15);\n",
              "    fill: var(--button-hover-fill-color);\n",
              "  }\n",
              "\n",
              "  .colab-df-quickchart-complete:disabled,\n",
              "  .colab-df-quickchart-complete:disabled:hover {\n",
              "    background-color: var(--disabled-bg-color);\n",
              "    fill: var(--disabled-fill-color);\n",
              "    box-shadow: none;\n",
              "  }\n",
              "\n",
              "  .colab-df-spinner {\n",
              "    border: 2px solid var(--fill-color);\n",
              "    border-color: transparent;\n",
              "    border-bottom-color: var(--fill-color);\n",
              "    animation:\n",
              "      spin 1s steps(1) infinite;\n",
              "  }\n",
              "\n",
              "  @keyframes spin {\n",
              "    0% {\n",
              "      border-color: transparent;\n",
              "      border-bottom-color: var(--fill-color);\n",
              "      border-left-color: var(--fill-color);\n",
              "    }\n",
              "    20% {\n",
              "      border-color: transparent;\n",
              "      border-left-color: var(--fill-color);\n",
              "      border-top-color: var(--fill-color);\n",
              "    }\n",
              "    30% {\n",
              "      border-color: transparent;\n",
              "      border-left-color: var(--fill-color);\n",
              "      border-top-color: var(--fill-color);\n",
              "      border-right-color: var(--fill-color);\n",
              "    }\n",
              "    40% {\n",
              "      border-color: transparent;\n",
              "      border-right-color: var(--fill-color);\n",
              "      border-top-color: var(--fill-color);\n",
              "    }\n",
              "    60% {\n",
              "      border-color: transparent;\n",
              "      border-right-color: var(--fill-color);\n",
              "    }\n",
              "    80% {\n",
              "      border-color: transparent;\n",
              "      border-right-color: var(--fill-color);\n",
              "      border-bottom-color: var(--fill-color);\n",
              "    }\n",
              "    90% {\n",
              "      border-color: transparent;\n",
              "      border-bottom-color: var(--fill-color);\n",
              "    }\n",
              "  }\n",
              "</style>\n",
              "\n",
              "  <script>\n",
              "    async function quickchart(key) {\n",
              "      const quickchartButtonEl =\n",
              "        document.querySelector('#' + key + ' button');\n",
              "      quickchartButtonEl.disabled = true;  // To prevent multiple clicks.\n",
              "      quickchartButtonEl.classList.add('colab-df-spinner');\n",
              "      try {\n",
              "        const charts = await google.colab.kernel.invokeFunction(\n",
              "            'suggestCharts', [key], {});\n",
              "      } catch (error) {\n",
              "        console.error('Error during call to suggestCharts:', error);\n",
              "      }\n",
              "      quickchartButtonEl.classList.remove('colab-df-spinner');\n",
              "      quickchartButtonEl.classList.add('colab-df-quickchart-complete');\n",
              "    }\n",
              "    (() => {\n",
              "      let quickchartButtonEl =\n",
              "        document.querySelector('#df-2d648aec-247a-4ce7-a90d-4db088386358 button');\n",
              "      quickchartButtonEl.style.display =\n",
              "        google.colab.kernel.accessAllowed ? 'block' : 'none';\n",
              "    })();\n",
              "  </script>\n",
              "</div>\n",
              "\n",
              "    </div>\n",
              "  </div>\n"
            ],
            "application/vnd.google.colaboratory.intrinsic+json": {
              "type": "dataframe",
              "variable_name": "data",
              "summary": "{\n  \"name\": \"data\",\n  \"rows\": 962,\n  \"fields\": [\n    {\n      \"column\": \"Category\",\n      \"properties\": {\n        \"dtype\": \"category\",\n        \"num_unique_values\": 25,\n        \"samples\": [\n          \"Civil Engineer\",\n          \"DevOps Engineer\",\n          \"Data Science\"\n        ],\n        \"semantic_type\": \"\",\n        \"description\": \"\"\n      }\n    },\n    {\n      \"column\": \"Resume\",\n      \"properties\": {\n        \"dtype\": \"category\",\n        \"num_unique_values\": 166,\n        \"samples\": [\n          \"KEY COMPETENCIES \\u00e2\\u009c\\u00b6Multi - Operations Management\\u00e2\\u009c\\u00b6People Management \\u00e2\\u009c\\u00b6Customer Services - Emails \\u00e2\\u009c\\u00b6 MIS \\u00e2\\u009c\\u00b6Vendor & Client Services Management\\u00e2\\u009c\\u00b6Cross Functional Coordination\\u00e2\\u009c\\u00b6Banking & Financial Services\\u00e2\\u009c\\u00b6 Transaction Monitoring * ATM Operations \\u00e2\\u009c\\u00b6 & Prepaid Card Operations (Pre-Issuance & Post-Issuance) \\u00e2\\u009c\\u00b6 POS Operations * JOB PROFILE & SKILLS: \\u00e2\\u0080\\u00a2 An effective communicator with excellent relationship building & interpersonal skills. Strong analytical, problem solving & organizational abilities. \\u00e2\\u0080\\u00a2 Extensive experience in managing operations with demonstrated leadership qualities & organisational skills during the tenure. \\u00e2\\u0080\\u00a2 Managing customer centric operations & ensuring customer satisfaction by achieving service quality norms. \\u00e2\\u0080\\u00a2 Analyzing of all operational problems, customer complaints and take preventive and corrective actions to resolve the same. \\u00e2\\u0080\\u00a2 Receive and respond to Key customer inquiries in an effective manner and provide relevant and timely information. \\u00e2\\u0080\\u00a2 Deft in steering banking back-end operations, analyzing risks and managing delinquencies with dexterity across applying techniques for maximizing recoveries and minimizing credit losses. \\u00e2\\u0080\\u00a2 Analyzed & identified training needs of the team members and developing, organizing and conducting training programs and manage bottom quartile team to improve their performance. \\u00e2\\u0080\\u00a2 Preparing and maintaining daily MIS reports to evaluate the performance and efficiency of the process relate to various verticals. \\u00e2\\u0080\\u00a2 Measuring the performance of the processes in terms of efficiency and effectiveness matrix and ensuring adherence to SLA. \\u00e2\\u0080\\u00a2 Major Activities Define processes for Field Services were monitored and necessary checks were executed and controlled. Also measured Vendor SLA by analyzing the TAT of vendors & the Client SLA provided to us. \\u00e2\\u0080\\u00a2 As per company procedures, handling & ensuring vendor's payment issues to be sorted out &payments are processed on quarterly basis. \\u00e2\\u0080\\u00a2 Appropriately plan and execute each skill of operations in accordance with the department's policies and procedures. \\u00e2\\u0080\\u00a2 Manage relationships with business team, software development team and other services to achieve project objectives. Different software Worked till now: - a. CTL prime - Axis Bank Credit Cards b. Insight - For POS Machine technical operations for Amex (MID & TID Generation- ATOS (Venture Infotek) c. Ticket Management System - TATA Communications Private Services Ltd (ATM - NOC Operations) d. Branch Portal (Yalamanchili Software Exports Ltd) - Prepaid Cards (SBI Bank & Zaggle Prepaid Oceans Services Ltd) Zaggle Prepaid Ocean Services Pvt Ltd Oct, 2017 to Till Date Designation: Manager - Operations (Payment Industry - Prepaid Cards - INR) Education Details \\r\\n  Commerce Mumbai, Maharashtra Mumbai University\\r\\nOperations Manager \\r\\n\\r\\nService Manager - Operations (Payment Industry - Prepaid Cards - INR & FTC)\\r\\nSkill Details \\r\\nOPERATIONS- Exprience - 73 months\\r\\nSATISFACTION- Exprience - 48 months\\r\\nTRAINING- Exprience - 24 months\\r\\nNOC- Exprience - 23 months\\r\\nPOINT OF SALE- Exprience - 20 monthsCompany Details \\r\\ncompany - Zaggle Prepaid Ocean Services Pvt Ltd\\r\\ndescription - Card Operations\\r\\ncompany - Yalamanchili Software Exports Ltd\\r\\ndescription - 24*7 Operations Pvt Ltd) Dec 2015 to Feb 2017\\r\\n\\r\\nDesignation: Service Manager - Operations (Payment Industry - Prepaid Cards - INR & FTC)\\r\\n\\r\\nKey Contributions: \\u00e2\\u0080\\u00a2 A result-oriented business professional in planning, executing& managing processes, improving efficiency of operations, team building and detailing process information to determine effective result into operations.\\r\\n\\u00e2\\u0080\\u00a2 Ensuring PINs generation (SLA) is maintained and chargeback cases are raised in perfect timeframe.\\r\\n\\u00e2\\u0080\\u00a2 Managing email customer services properly and ensuring the emails are replied properly. Also, ensuring transaction monitoring is properly managed 24/7.\\r\\n\\u00e2\\u0080\\u00a2 Assisting Bankers (SBI & Associated Banks) for their BCP plans by getting executed in the system with the help of DR-PR plans & vice versa or any other business requirements.\\r\\n\\u00e2\\u0080\\u00a2 Expertise in maintaining highest level of quality in operations; ensuring adherence to all the quality parameters and procedures as per the stringent norms.\\r\\n\\u00e2\\u0080\\u00a2 Lead, manage and supervise the execution of external audit engagements and responsible for presenting the findings & developing a quality reports to the senior Management and Clients.\\r\\n\\u00e2\\u0080\\u00a2 Coach/mentor (20) team members to perform at a higher level by giving opportunities, providing timely continuous feedback and working with staff to improve their communication, time management, decision making, organization, and analytical skills.\\r\\n\\u00e2\\u0080\\u00a2 Providing the solutions and services to the client in their own premises with aforesaid count of team members.\\r\\n\\u00e2\\u0080\\u00a2 Also ensuring end to end process of PR & DR as per client requirements (PR- DR & DR -PR) by interacting with internal & external stakeholders.\\r\\n\\u00e2\\u0080\\u00a2 Determining process gaps and designing & conducting training programs to enhance operational efficiency and retain talent by providing optimum opportunities for personal and professional growth.\\r\\ncompany - Credit Cards\\r\\ndescription - Ensured highest standard of customer satisfaction and quality service; developing new policies and procedures to improve based on customer feedback and resolving customer queries via correspondence, inbound calls & email channels with the strength of (12-16) Team members.\\r\\ncompany - AGS Transact Technologies Limited\\r\\ndescription - Key Contributions: Lead - SPOC to Banks\\r\\ncompany - TATA Communications Payment Solutions Ltd\\r\\ndescription - To make ATMs operational within TAT by analyzing the issue is technical or non-technical and also by interacting with internal & external stakeholders.\\r\\ncompany - Vertex Customer Solutions India Private Ltd\\r\\ndescription - Key Contributions: \\u00e2\\u0080\\u00a2 Build positive working relationship with all team members and clients by keeping Management informed   of KYC document collection & con-current audit progress, responding timely to Management inquiries, understanding the business and conducting self professionally.\\r\\ncompany - Financial Inclusion Network & Operations Limited\\r\\ndescription - Key Contributions: POS-Operations \\u00e2\\u0080\\u00a2 Cascading the adherence of process is strictly followed by team members & training them to reduce the downtime.\\r\\n\\u00e2\\u0080\\u00a2 Managing Stock of EDC Terminals \\u00e2\\u0080\\u00a2 Managing Deployments of terminals through Multiple teams \\u00e2\\u0080\\u00a2 Would have worked with multiple terminal make & model \\u00e2\\u0080\\u00a2 Managing Inward, Outward & QC of applications installed in the POS machines.\\r\\ncompany - Venture Infotek Private Ltd\\r\\ndescription - Key Contributions: POS-Operations\\r\\ncompany - Axis Bank Ltd - Customer Services\\r\\ndescription - Aug 2006 to Oct 2009 (Ma-Foi&I- smart)\\r\\n\\r\\nDesignation: Team Leader/Executive - Emails, Phone Banking & Correspondence Unit (Snail Mails)\",\n          \"Skill Set: Hadoop, Map Reduce, HDFS, Hive, Sqoop, java. Duration: 2016 to 2017. Role: Hadoop Developer Rplus offers an quick, simple and powerful cloud based Solution, Demand Sense to accurately predict demand for your product in all your markets which Combines Enterprise and External Data to predict demand more accurately through Uses Social Conversation and Sentiments to derive demand and Identifies significant drivers of sale out of hordes of factors that Selects the best suited model out of multiple forecasting models for each product. Responsibilities: \\u00e2\\u0080\\u00a2 Involved in deploying the product for customers, gathering requirements and algorithm optimization at backend of the product. \\u00e2\\u0080\\u00a2 Load and transform Large Datasets of structured semi structured. \\u00e2\\u0080\\u00a2 Responsible to manage data coming from different sources and application \\u00e2\\u0080\\u00a2 Supported Map Reduce Programs those are running on the cluster \\u00e2\\u0080\\u00a2 Involved in creating Hive tables, loading with data and writing hive queries which will run internally in map reduce way.Education Details \\r\\n\\r\\nHadoop Developer \\r\\n\\r\\nHadoop Developer - Braindatawire\\r\\nSkill Details \\r\\nAPACHE HADOOP HDFS- Exprience - 49 months\\r\\nAPACHE HADOOP SQOOP- Exprience - 49 months\\r\\nHadoop- Exprience - 49 months\\r\\nHADOOP- Exprience - 49 months\\r\\nHADOOP DISTRIBUTED FILE SYSTEM- Exprience - 49 monthsCompany Details \\r\\ncompany - Braindatawire\\r\\ndescription - Technical Skills:\\r\\n\\u00e2\\u0080\\u00a2   Programming: Core Java, Map Reduce, Scala\\r\\n\\u00e2\\u0080\\u00a2   Hadoop Tools: HDFS, Spark, Map Reduce, Sqoop, Hive, Hbase\\r\\n\\u00e2\\u0080\\u00a2   Database: MySQL, Oracle\\r\\n\\u00e2\\u0080\\u00a2   Scripting: Shell Scripting\\r\\n\\u00e2\\u0080\\u00a2   IDE: Eclipse\\r\\n\\u00e2\\u0080\\u00a2   Operating Systems: Linux (CentOS), Windows\\r\\n\\u00e2\\u0080\\u00a2   Source Control: Git (Github)\",\n          \"IT Skills: Area Exposure Modeling Tool: Bizagi, MS Visio Prototyping Tool: Indigo Studio. Documentation: MS Office (MS Word, MS Excel, MS Power Point) Testing Proficiency: Smoke, Sanity, Integration, Functional, Acceptance and UI Methodology implemented: Waterfall, Agile (Scrum) Database: SQL Testing Tool: HPQC Business Exposure Education Details \\r\\n Bachelor Of Computer Engineering Computer Engineering Mumbai, Maharashtra Thadomal Shahani Engineering college\\r\\n Diploma Computer Engineering Ulhasnagar, Maharashtra Institute of Technology\\r\\n Secondary School Certificate  Ulhasnagar, Maharashtra New English High School\\r\\nSenior Business Analyst - RPA \\r\\n\\r\\nSenior Business Analyst - RPA - Hexaware Technologies\\r\\nSkill Details \\r\\nDOCUMENTATION- Exprience - 47 months\\r\\nTESTING- Exprience - 29 months\\r\\nINTEGRATION- Exprience - 25 months\\r\\nINTEGRATOR- Exprience - 25 months\\r\\nPROTOTYPE- Exprience - 13 monthsCompany Details \\r\\ncompany - Hexaware Technologies\\r\\ndescription - Working as a RPA Business Analyst\\r\\ncompany - BBH- Brown Brothers Harriman & Co\\r\\ndescription - is a private bank that provides commercial banking, investment management, brokerage, and trust services to private companies and individuals. It also performs merger advisory, foreign exchange, custody services, commercial banking, and corporate financing services.\\r\\n\\r\\nResponsibilities: \\u00e2\\u0080\\u00a2 Performed Automation Assessment of various Processes and identified processes which can be candidates of RPA.\\r\\n\\u00e2\\u0080\\u00a2 Conducting Assessment that involves an initial Understanding of the Existing System, their technology, processes, Usage of the tools, Feasibility of tool with automation tool along with automation ROI analysis.\\r\\n\\u00e2\\u0080\\u00a2 Preparing the Automation Potential Sheet which describes the steps in the process, the volume and frequency of the transaction, the AHT taken by SME to perform the process and depending on the steps that could be automated, Automation potential and the manual efforts that will be saved are calculated.\\r\\nCalculating the complexity of the Process which is considered for automation and depending on all these factors Number of Bots and Number of Automation tool Licenses are determined.\\r\\n\\u00e2\\u0080\\u00a2 Implementing a Proof of Concept (POC) to Validate Feasibility by executing the selected critical use cases for conducting a POC which will helps to identify financial and operational benefits and provide recommendations regarding the actual need for complete automation.\\r\\n\\u00e2\\u0080\\u00a2 Gathering business requirements by conducting detailed interviews with business users, stakeholders, and Subject Matter Experts (SME's) \\u00e2\\u0080\\u00a2 Preparing Business Requirement Document and then converted Business requirements into Functional Requirements Specification.\\r\\n \\u00e2\\u0080\\u00a2 Constructing prototype early toward a design acceptable to the customer and feasible.\\r\\n\\u00e2\\u0080\\u00a2 Assisting in designing test plans, test scenarios and test cases for integration, regression, and user acceptance testing (UAT) to improve the overall quality of the Automation.\\r\\n\\u00e2\\u0080\\u00a2 Participating regularly in Walkthroughs and Review meetings with Project Manager, QA Engineers, and Development team.\\r\\n\\u00e2\\u0080\\u00a2 Regularly interacting with offshore and onshore development teams.\\r\\ncompany - FADV - First Advantage\\r\\ndescription - is a criminal background check company that delivers global solutions ranging from employment screenings to background checks.\\r\\nThe following are the processes which were covered:\\r\\nEmail Process, Research Process, Review Process.\\r\\n\\r\\nResponsibilities: \\u00e2\\u0080\\u00a2 Requirement Gathering through conducting Interviews & Brainstorming sessions with stakeholders \\u00e2\\u0080\\u00a2 To develop decision models and execute those rules as per the use case specifications.\\r\\n\\u00e2\\u0080\\u00a2 To Test/validate the decision models against document test data.\\r\\n\\u00e2\\u0080\\u00a2 To maintain and enhance the decision models for changes in regulations as per use case specifications.\\r\\n\\u00e2\\u0080\\u00a2 Responsible for performing the business research that will make a business growth.\\r\\n\\u00e2\\u0080\\u00a2 Developing a clear understanding of existing business functions and processes.\\r\\n\\u00e2\\u0080\\u00a2 Effectively communicate with the onsite clients for the queries, suggestions, and update.\\r\\n\\u00e2\\u0080\\u00a2 Giving suggestions to enhance the current processes.\\r\\n\\u00e2\\u0080\\u00a2 Identifying areas for process improvement.\\r\\n\\u00e2\\u0080\\u00a2 Flagging up potential problems at an early stage.\\r\\n\\u00e2\\u0080\\u00a2 Preparing PowerPoint presentations and documents for business meetings.\\r\\n\\u00e2\\u0080\\u00a2 Using any information gathered to write up detailed reports.\\r\\n\\u00e2\\u0080\\u00a2 Highlighting risks and issues that could impact project delivery.\\r\\n\\u00e2\\u0080\\u00a2 Able to work accurately.\\r\\n\\u00e2\\u0080\\u00a2 To develop and maintain documentation for internal team training and client end user operations.\\r\\n\\u00e2\\u0080\\u00a2 To work efficiently with team members and across teams.\\r\\n\\u00e2\\u0080\\u00a2 To mentor and train junior team members.\\r\\ncompany - Clinical Testing, Lab Work and Diagnostic Testing\\r\\ndescription - IQVIA provides services to its customers this includes: Clinical Testing, Lab Work and Diagnostic Testing under clinical trial. These customers need to pay to IQVIA and aging details and invoices are generated for the same.\\r\\nThe following are the processes which were covered:\\r\\n\\r\\nTracking Payments, Automated Real Time Metrics Reporting (Dashboard), Past Due Notifications, AR Statements, Credit/Rebill.\\r\\nResponsibilities: \\u00e2\\u0080\\u00a2 Conducting meetings with clients and key stakeholders to gather requirements, analyze, finalize and have formal sign-offs from approvers Gather and perform analysis of the business requirements \\u00e2\\u0080\\u00a2 Translating the business requirements into the Business Requirement Document [BRD], Functional Requirement Document [FRD].\\r\\n\\u00e2\\u0080\\u00a2 Facilitating meetings with the appropriate subject matter experts in both business and technology teams \\u00e2\\u0080\\u00a2 Coordinating with business user community for the execution of user acceptance test as well as tracking issues \\u00e2\\u0080\\u00a2 Working, collaborating and coordinating with Offshore and Onsite team members to fulfill the BA responsibilities from project initiation to Post-Implementation \\u00e2\\u0080\\u00a2 Reviewing the test scripts with business users as well as technology team. Execute test scripts with expected results for the System Integration Test (SIT) and User Acceptance Test (UAT) \\u00e2\\u0080\\u00a2 Coordinating and conducting the Production Acceptance Testing (PAT) with the business users \\u00e2\\u0080\\u00a2 Creating flow diagrams, structure charts, and other types of system or process representations \\u00e2\\u0080\\u00a2 Managing changes to requirements and baseline through a change control process \\u00e2\\u0080\\u00a2 Utilizing standard methods, design and testing tools throughout project development life cycle \\u00e2\\u0080\\u00a2 Work closely with the operational functional teams, operations management, and personnel, and various technology teams to facilitate a shared understanding of requirements and priorities across all areas\\r\\ncompany - Eduavenir IT Solution\\r\\ndescription - Project: M.B.M.S\\r\\n\\r\\nM.B.M.S. - is an Inventory management application that allows user to manage inventory details of different warehouses, having different products located at various locations and help extract what goods have been procured, sold or returned by customers. It generates automated invoicesalong withcustomized reports. It also managescustomer complaint and resolution system implementation along with automated MIS on monthly basis.Sales and forecastingis also developed on MIS System and the streamlining of process of warehousing and dispatch along with online proof of delivery management system (POD documentation) is generated.\\r\\n\\r\\nResponsibilities: \\u00e2\\u0080\\u00a2 Participate in requirement gathering discussion with client to understand the flow of business processes \\u00e2\\u0080\\u00a2 Analyze the requirements and determine the core processes, develop Process Documentation and ensure to stay up-to-date in conjunction with on-going changes \\u00e2\\u0080\\u00a2 Participate in process flow analysis and preparing BRD, SRS.\\r\\n\\u00e2\\u0080\\u00a2 Coordinating with developers, designers & operations teams for various nuances of the project, communicate the stakeholder requirements from requirement /enhancement to implementation and finally deliver the same within estimated timeframe.\\r\\n\\u00e2\\u0080\\u00a2 Support UAT by reviewing test cases, manage version control of documents, software builds.\\r\\n\\u00e2\\u0080\\u00a2 Coordinate with the stakeholders for UAT sign off and coordinate internally for production movement till Golive stage of the application.\\r\\n\\u00e2\\u0080\\u00a2 Provide demo and training to internal and end user using PowerPoint presentation.\\r\\n\\u00e2\\u0080\\u00a2 Resolving project functional &technical issues during UAT.\\r\\n\\u00e2\\u0080\\u00a2 Prioritizing the Production bugs and resolving the same within the estimated timeframe.\\r\\n\\u00e2\\u0080\\u00a2 Preparing Project Status Report and Production Bugs Status to all the stakeholders.\\r\\n\\u00e2\\u0080\\u00a2 Promoting and Networking for online trading platform.\\r\\n\\u00e2\\u0080\\u00a2 Designing query sheet for obtaining and comparison of quotes from various vendors.\\r\\n\\u00e2\\u0080\\u00a2 Development of product codes / material codes for inventory management (Master Data Management)\\r\\ncompany - CAPGEMINI Head Office\\r\\ndescription - Type: Mobile and Device Testing.       Duration: January 2014 - August 2014\\r\\n\\r\\nFollet - An application which takes an electronic request from the user for the books he requires from a particular follet store. This detailed information about books that will include the name of the book, its price, the date of the transaction and the parties involved which will then be sent to follet stores. User then create request for one or more books for a given date. This request is then processed further and user gets a mail of the date when he will be provided with that book.\\r\\n\\r\\nResponsibilities: \\u00e2\\u0080\\u00a2 Understanding the needs and business requirements.\\r\\n\\u00e2\\u0080\\u00a2 Preparing BRD, SRS by eliciting all the requirements from the client and SMEs \\u00e2\\u0080\\u00a2 Understanding the dependency of the modules in the system \\u00e2\\u0080\\u00a2 Preparation of test plan for Unit level and Integration level.\\r\\n\\u00e2\\u0080\\u00a2 Preparation and execution of test cases.\\r\\n\\u00e2\\u0080\\u00a2 Defect tracking, Issue Resolution, Risk Monitoring, Status Tracking, Reporting and Follow-up.\\r\\n\\u00e2\\u0080\\u00a2 Preparation of Test Completion report.\\r\\ncompany - CAPGEMINI Head Office\\r\\ndescription - \\r\\ncompany - CAPGEMINI Head Office\\r\\ndescription - Humana is a health care insurance project of U.S. which deals with supplying various medicines to citizens as per the doctor's reference and patient's insurance policy. This application keeps track of all the medicines user has consumed in the past and generates a patient history. A citizen is given a drug only after the doctor's reference so the doctor's information is also linked with the patient's history.\\r\\n\\r\\nResponsibilities: \\u00e2\\u0080\\u00a2 Understanding the requirements and getting clarifications from client.\\r\\n\\u00e2\\u0080\\u00a2 Involved in writing test cases based on test scenarios and execute them.\\r\\n\\u00e2\\u0080\\u00a2 Ensuring Test Coverage using Requirement Traceability Matrix (RTM) \\u00e2\\u0080\\u00a2 Preparation of Test Completion report.\\r\\ncompany - CAPGEMINI Head Office\\r\\ndescription - Testing Trends WQR (World Quality Report) is an application which allows the users to take a survey on different methods and technologies used for testing. Users can choose to answer any type of questions under three different categories. Users have a facility to search, view and export the data to excel. Also, users get daily and weekly reports through email about the new trends in testing implemented around the globe. Testing Trends WQR app is available on Android and IOS platforms.\\r\\n\\r\\nResponsibilities: \\u00e2\\u0080\\u00a2 Understanding the requirements and getting clarifications from client.\\r\\n\\u00e2\\u0080\\u00a2 Writing test cases based on test scenarios and executed them.\\r\\n\\u00e2\\u0080\\u00a2 Performing different types of testing such as Functional, Integration, System, and UAT.\\r\\n\\u00e2\\u0080\\u00a2 Defect resolution and maintenance of the application.\"\n        ],\n        \"semantic_type\": \"\",\n        \"description\": \"\"\n      }\n    }\n  ]\n}"
            }
          },
          "metadata": {},
          "execution_count": 9
        }
      ]
    },
    {
      "cell_type": "code",
      "source": [
        "data.Category.value_counts()"
      ],
      "metadata": {
        "colab": {
          "base_uri": "https://localhost:8080/",
          "height": 899
        },
        "id": "r6dKu6__es9G",
        "outputId": "9d1f9485-1267-485f-cfa1-849371b3ca50"
      },
      "execution_count": 10,
      "outputs": [
        {
          "output_type": "execute_result",
          "data": {
            "text/plain": [
              "Category\n",
              "Java Developer               84\n",
              "Testing                      70\n",
              "DevOps Engineer              55\n",
              "Python Developer             48\n",
              "Web Designing                45\n",
              "HR                           44\n",
              "Hadoop                       42\n",
              "Blockchain                   40\n",
              "ETL Developer                40\n",
              "Operations Manager           40\n",
              "Data Science                 40\n",
              "Sales                        40\n",
              "Mechanical Engineer          40\n",
              "Arts                         36\n",
              "Database                     33\n",
              "Electrical Engineering       30\n",
              "Health and fitness           30\n",
              "PMO                          30\n",
              "Business Analyst             28\n",
              "DotNet Developer             28\n",
              "Automation Testing           26\n",
              "Network Security Engineer    25\n",
              "SAP Developer                24\n",
              "Civil Engineer               24\n",
              "Advocate                     20\n",
              "Name: count, dtype: int64"
            ],
            "text/html": [
              "<table border=\"1\" class=\"dataframe\">\n",
              "  <thead>\n",
              "    <tr style=\"text-align: right;\">\n",
              "      <th></th>\n",
              "      <th>count</th>\n",
              "    </tr>\n",
              "    <tr>\n",
              "      <th>Category</th>\n",
              "      <th></th>\n",
              "    </tr>\n",
              "  </thead>\n",
              "  <tbody>\n",
              "    <tr>\n",
              "      <th>Java Developer</th>\n",
              "      <td>84</td>\n",
              "    </tr>\n",
              "    <tr>\n",
              "      <th>Testing</th>\n",
              "      <td>70</td>\n",
              "    </tr>\n",
              "    <tr>\n",
              "      <th>DevOps Engineer</th>\n",
              "      <td>55</td>\n",
              "    </tr>\n",
              "    <tr>\n",
              "      <th>Python Developer</th>\n",
              "      <td>48</td>\n",
              "    </tr>\n",
              "    <tr>\n",
              "      <th>Web Designing</th>\n",
              "      <td>45</td>\n",
              "    </tr>\n",
              "    <tr>\n",
              "      <th>HR</th>\n",
              "      <td>44</td>\n",
              "    </tr>\n",
              "    <tr>\n",
              "      <th>Hadoop</th>\n",
              "      <td>42</td>\n",
              "    </tr>\n",
              "    <tr>\n",
              "      <th>Blockchain</th>\n",
              "      <td>40</td>\n",
              "    </tr>\n",
              "    <tr>\n",
              "      <th>ETL Developer</th>\n",
              "      <td>40</td>\n",
              "    </tr>\n",
              "    <tr>\n",
              "      <th>Operations Manager</th>\n",
              "      <td>40</td>\n",
              "    </tr>\n",
              "    <tr>\n",
              "      <th>Data Science</th>\n",
              "      <td>40</td>\n",
              "    </tr>\n",
              "    <tr>\n",
              "      <th>Sales</th>\n",
              "      <td>40</td>\n",
              "    </tr>\n",
              "    <tr>\n",
              "      <th>Mechanical Engineer</th>\n",
              "      <td>40</td>\n",
              "    </tr>\n",
              "    <tr>\n",
              "      <th>Arts</th>\n",
              "      <td>36</td>\n",
              "    </tr>\n",
              "    <tr>\n",
              "      <th>Database</th>\n",
              "      <td>33</td>\n",
              "    </tr>\n",
              "    <tr>\n",
              "      <th>Electrical Engineering</th>\n",
              "      <td>30</td>\n",
              "    </tr>\n",
              "    <tr>\n",
              "      <th>Health and fitness</th>\n",
              "      <td>30</td>\n",
              "    </tr>\n",
              "    <tr>\n",
              "      <th>PMO</th>\n",
              "      <td>30</td>\n",
              "    </tr>\n",
              "    <tr>\n",
              "      <th>Business Analyst</th>\n",
              "      <td>28</td>\n",
              "    </tr>\n",
              "    <tr>\n",
              "      <th>DotNet Developer</th>\n",
              "      <td>28</td>\n",
              "    </tr>\n",
              "    <tr>\n",
              "      <th>Automation Testing</th>\n",
              "      <td>26</td>\n",
              "    </tr>\n",
              "    <tr>\n",
              "      <th>Network Security Engineer</th>\n",
              "      <td>25</td>\n",
              "    </tr>\n",
              "    <tr>\n",
              "      <th>SAP Developer</th>\n",
              "      <td>24</td>\n",
              "    </tr>\n",
              "    <tr>\n",
              "      <th>Civil Engineer</th>\n",
              "      <td>24</td>\n",
              "    </tr>\n",
              "    <tr>\n",
              "      <th>Advocate</th>\n",
              "      <td>20</td>\n",
              "    </tr>\n",
              "  </tbody>\n",
              "</table><br><label><b>dtype:</b> int64</label>"
            ]
          },
          "metadata": {},
          "execution_count": 10
        }
      ]
    },
    {
      "cell_type": "code",
      "source": [
        "data['Resume'][0]"
      ],
      "metadata": {
        "colab": {
          "base_uri": "https://localhost:8080/",
          "height": 174
        },
        "id": "1hHkWfLUe7Mz",
        "outputId": "d378a9e4-52dd-4868-8518-ccd8a6792791"
      },
      "execution_count": 11,
      "outputs": [
        {
          "output_type": "execute_result",
          "data": {
            "text/plain": [
              "'Skills * Programming Languages: Python (pandas, numpy, scipy, scikit-learn, matplotlib), Sql, Java, JavaScript/JQuery. * Machine learning: Regression, SVM, NaÃ¯ve Bayes, KNN, Random Forest, Decision Trees, Boosting techniques, Cluster Analysis, Word Embedding, Sentiment Analysis, Natural Language processing, Dimensionality reduction, Topic Modelling (LDA, NMF), PCA & Neural Nets. * Database Visualizations: Mysql, SqlServer, Cassandra, Hbase, ElasticSearch D3.js, DC.js, Plotly, kibana, matplotlib, ggplot, Tableau. * Others: Regular Expression, HTML, CSS, Angular 6, Logstash, Kafka, Python Flask, Git, Docker, computer vision - Open CV and understanding of Deep learning.Education Details \\r\\n\\r\\nData Science Assurance Associate \\r\\n\\r\\nData Science Assurance Associate - Ernst & Young LLP\\r\\nSkill Details \\r\\nJAVASCRIPT- Exprience - 24 months\\r\\njQuery- Exprience - 24 months\\r\\nPython- Exprience - 24 monthsCompany Details \\r\\ncompany - Ernst & Young LLP\\r\\ndescription - Fraud Investigations and Dispute Services   Assurance\\r\\nTECHNOLOGY ASSISTED REVIEW\\r\\nTAR (Technology Assisted Review) assists in accelerating the review process and run analytics and generate reports.\\r\\n* Core member of a team helped in developing automated review platform tool from scratch for assisting E discovery domain, this tool implements predictive coding and topic modelling by automating reviews, resulting in reduced labor costs and time spent during the lawyers review.\\r\\n* Understand the end to end flow of the solution, doing research and development for classification models, predictive analysis and mining of the information present in text data. Worked on analyzing the outputs and precision monitoring for the entire tool.\\r\\n* TAR assists in predictive coding, topic modelling from the evidence by following EY standards. Developed the classifier models in order to identify \"red flags\" and fraud-related issues.\\r\\n\\r\\nTools & Technologies: Python, scikit-learn, tfidf, word2vec, doc2vec, cosine similarity, NaÃ¯ve Bayes, LDA, NMF for topic modelling, Vader and text blob for sentiment analysis. Matplot lib, Tableau dashboard for reporting.\\r\\n\\r\\nMULTIPLE DATA SCIENCE AND ANALYTIC PROJECTS (USA CLIENTS)\\r\\nTEXT ANALYTICS - MOTOR VEHICLE CUSTOMER REVIEW DATA * Received customer feedback survey data for past one year. Performed sentiment (Positive, Negative & Neutral) and time series analysis on customer comments across all 4 categories.\\r\\n* Created heat map of terms by survey category based on frequency of words * Extracted Positive and Negative words across all the Survey categories and plotted Word cloud.\\r\\n* Created customized tableau dashboards for effective reporting and visualizations.\\r\\nCHATBOT * Developed a user friendly chatbot for one of our Products which handle simple questions about hours of operation, reservation options and so on.\\r\\n* This chat bot serves entire product related questions. Giving overview of tool via QA platform and also give recommendation responses so that user question to build chain of relevant answer.\\r\\n* This too has intelligence to build the pipeline of questions as per user requirement and asks the relevant /recommended questions.\\r\\n\\r\\nTools & Technologies: Python, Natural language processing, NLTK, spacy, topic modelling, Sentiment analysis, Word Embedding, scikit-learn, JavaScript/JQuery, SqlServer\\r\\n\\r\\nINFORMATION GOVERNANCE\\r\\nOrganizations to make informed decisions about all of the information they store. The integrated Information Governance portfolio synthesizes intelligence across unstructured data sources and facilitates action to ensure organizations are best positioned to counter information risk.\\r\\n* Scan data from multiple sources of formats and parse different file formats, extract Meta data information, push results for indexing elastic search and created customized, interactive dashboards using kibana.\\r\\n* Preforming ROT Analysis on the data which give information of data which helps identify content that is either Redundant, Outdated, or Trivial.\\r\\n* Preforming full-text search analysis on elastic search with predefined methods which can tag as (PII) personally identifiable information (social security numbers, addresses, names, etc.) which frequently targeted during cyber-attacks.\\r\\nTools & Technologies: Python, Flask, Elastic Search, Kibana\\r\\n\\r\\nFRAUD ANALYTIC PLATFORM\\r\\nFraud Analytics and investigative platform to review all red flag cases.\\r\\nâ\\x80¢ FAP is a Fraud Analytics and investigative platform with inbuilt case manager and suite of Analytics for various ERP systems.\\r\\n* It can be used by clients to interrogate their Accounting systems for identifying the anomalies which can be indicators of fraud by running advanced analytics\\r\\nTools & Technologies: HTML, JavaScript, SqlServer, JQuery, CSS, Bootstrap, Node.js, D3.js, DC.js'"
            ],
            "application/vnd.google.colaboratory.intrinsic+json": {
              "type": "string"
            }
          },
          "metadata": {},
          "execution_count": 11
        }
      ]
    },
    {
      "cell_type": "code",
      "source": [
        "data.Category.unique()"
      ],
      "metadata": {
        "colab": {
          "base_uri": "https://localhost:8080/"
        },
        "id": "hT8wdVsNfON4",
        "outputId": "0a316646-af97-402f-ffe6-65d40561ebeb"
      },
      "execution_count": 12,
      "outputs": [
        {
          "output_type": "execute_result",
          "data": {
            "text/plain": [
              "array(['Data Science', 'HR', 'Advocate', 'Arts', 'Web Designing',\n",
              "       'Mechanical Engineer', 'Sales', 'Health and fitness',\n",
              "       'Civil Engineer', 'Java Developer', 'Business Analyst',\n",
              "       'SAP Developer', 'Automation Testing', 'Electrical Engineering',\n",
              "       'Operations Manager', 'Python Developer', 'DevOps Engineer',\n",
              "       'Network Security Engineer', 'PMO', 'Database', 'Hadoop',\n",
              "       'ETL Developer', 'DotNet Developer', 'Blockchain', 'Testing'],\n",
              "      dtype=object)"
            ]
          },
          "metadata": {},
          "execution_count": 12
        }
      ]
    },
    {
      "cell_type": "code",
      "source": [
        "plt.figure(figsize=(15, 5))\n",
        "sns.countplot(data, x='Category', palette='viridis')\n",
        "plt.xticks(rotation=90)\n",
        "plt.show()"
      ],
      "metadata": {
        "colab": {
          "base_uri": "https://localhost:8080/",
          "height": 491
        },
        "id": "yIzp1x1Vfa3Q",
        "outputId": "f2831f11-91a1-4661-cd67-6b2a6b61f757"
      },
      "execution_count": 13,
      "outputs": [
        {
          "output_type": "display_data",
          "data": {
            "text/plain": [
              "<Figure size 1500x500 with 1 Axes>"
            ],
            "image/png": "[encoded data removed]"
          },
          "metadata": {}
        }
      ]
    },
    {
      "cell_type": "code",
      "source": [
        "import re\n",
        "\n",
        "def cleanResumeText(text):\n",
        "  cleanText = re.sub('\\s+', ' ', text)\n",
        "  cleanText = re.sub(r'http\\S+|[\\*/\\(\\)\\-\\.\\,]|[^\\x00-\\x7f]', '', cleanText).lower()\n",
        "  return cleanText"
      ],
      "metadata": {
        "id": "qg4cR3QGf1DL"
      },
      "execution_count": 14,
      "outputs": []
    },
    {
      "cell_type": "code",
      "source": [
        "cleanResumeText(data['Resume'][0])"
      ],
      "metadata": {
        "colab": {
          "base_uri": "https://localhost:8080/",
          "height": 678
        },
        "id": "o-geEGcRmWL6",
        "outputId": "3d7413ed-bf88-4576-b6b4-039f530a7536"
      },
      "execution_count": 15,
      "outputs": [
        {
          "output_type": "execute_result",
          "data": {
            "text/plain": [
              "'skills  programming languages: python pandas numpy scipy scikitlearn matplotlib sql java javascriptjquery  machine learning: regression svm nave bayes knn random forest decision trees boosting techniques cluster analysis word embedding sentiment analysis natural language processing dimensionality reduction topic modelling lda nmf pca & neural nets  database visualizations: mysql sqlserver cassandra hbase elasticsearch d3js dcjs plotly kibana matplotlib ggplot tableau  others: regular expression html css angular 6 logstash kafka python flask git docker computer vision  open cv and understanding of deep learningeducation details data science assurance associate data science assurance associate  ernst & young llp skill details javascript exprience  24 months jquery exprience  24 months python exprience  24 monthscompany details company  ernst & young llp description  fraud investigations and dispute services assurance technology assisted review tar technology assisted review assists in accelerating the review process and run analytics and generate reports  core member of a team helped in developing automated review platform tool from scratch for assisting e discovery domain this tool implements predictive coding and topic modelling by automating reviews resulting in reduced labor costs and time spent during the lawyers review  understand the end to end flow of the solution doing research and development for classification models predictive analysis and mining of the information present in text data worked on analyzing the outputs and precision monitoring for the entire tool  tar assists in predictive coding topic modelling from the evidence by following ey standards developed the classifier models in order to identify \"red flags\" and fraudrelated issues tools & technologies: python scikitlearn tfidf word2vec doc2vec cosine similarity nave bayes lda nmf for topic modelling vader and text blob for sentiment analysis matplot lib tableau dashboard for reporting multiple data science and analytic projects usa clients text analytics  motor vehicle customer review data  received customer feedback survey data for past one year performed sentiment positive negative & neutral and time series analysis on customer comments across all 4 categories  created heat map of terms by survey category based on frequency of words  extracted positive and negative words across all the survey categories and plotted word cloud  created customized tableau dashboards for effective reporting and visualizations chatbot  developed a user friendly chatbot for one of our products which handle simple questions about hours of operation reservation options and so on  this chat bot serves entire product related questions giving overview of tool via qa platform and also give recommendation responses so that user question to build chain of relevant answer  this too has intelligence to build the pipeline of questions as per user requirement and asks the relevant recommended questions tools & technologies: python natural language processing nltk spacy topic modelling sentiment analysis word embedding scikitlearn javascriptjquery sqlserver information governance organizations to make informed decisions about all of the information they store the integrated information governance portfolio synthesizes intelligence across unstructured data sources and facilitates action to ensure organizations are best positioned to counter information risk  scan data from multiple sources of formats and parse different file formats extract meta data information push results for indexing elastic search and created customized interactive dashboards using kibana  preforming rot analysis on the data which give information of data which helps identify content that is either redundant outdated or trivial  preforming fulltext search analysis on elastic search with predefined methods which can tag as pii personally identifiable information social security numbers addresses names etc which frequently targeted during cyberattacks tools & technologies: python flask elastic search kibana fraud analytic platform fraud analytics and investigative platform to review all red flag cases  fap is a fraud analytics and investigative platform with inbuilt case manager and suite of analytics for various erp systems  it can be used by clients to interrogate their accounting systems for identifying the anomalies which can be indicators of fraud by running advanced analytics tools & technologies: html javascript sqlserver jquery css bootstrap nodejs d3js dcjs'"
            ],
            "application/vnd.google.colaboratory.intrinsic+json": {
              "type": "string"
            }
          },
          "metadata": {},
          "execution_count": 15
        }
      ]
    },
    {
      "cell_type": "code",
      "source": [
        "data['Resume'] = data['Resume'].apply( lambda x : cleanResumeText(x))"
      ],
      "metadata": {
        "id": "F29Z4hJ4qdQF"
      },
      "execution_count": 16,
      "outputs": []
    },
    {
      "cell_type": "code",
      "source": [
        "data.head()"
      ],
      "metadata": {
        "colab": {
          "base_uri": "https://localhost:8080/",
          "height": 206
        },
        "id": "kJ-0KQKovoz8",
        "outputId": "e2a619c8-b882-409c-9b99-edc840ab044d"
      },
      "execution_count": 17,
      "outputs": [
        {
          "output_type": "execute_result",
          "data": {
            "text/plain": [
              "       Category                                             Resume\n",
              "0  Data Science  skills  programming languages: python pandas n...\n",
              "1  Data Science  education details may 2013 to may 2017 be uitr...\n",
              "2  Data Science  areas of interest deep learning control system...\n",
              "3  Data Science  skills  r  python  sap hana  tableau  sap hana...\n",
              "4  Data Science  education details mca ymcaust faridabad haryan..."
            ],
            "text/html": [
              "\n",
              "  <div id=\"df-4f2baff9-9d62-476c-9ba5-854311a1f7aa\" class=\"colab-df-container\">\n",
              "    <div>\n",
              "<style scoped>\n",
              "    .dataframe tbody tr th:only-of-type {\n",
              "        vertical-align: middle;\n",
              "    }\n",
              "\n",
              "    .dataframe tbody tr th {\n",
              "        vertical-align: top;\n",
              "    }\n",
              "\n",
              "    .dataframe thead th {\n",
              "        text-align: right;\n",
              "    }\n",
              "</style>\n",
              "<table border=\"1\" class=\"dataframe\">\n",
              "  <thead>\n",
              "    <tr style=\"text-align: right;\">\n",
              "      <th></th>\n",
              "      <th>Category</th>\n",
              "      <th>Resume</th>\n",
              "    </tr>\n",
              "  </thead>\n",
              "  <tbody>\n",
              "    <tr>\n",
              "      <th>0</th>\n",
              "      <td>Data Science</td>\n",
              "      <td>skills  programming languages: python pandas n...</td>\n",
              "    </tr>\n",
              "    <tr>\n",
              "      <th>1</th>\n",
              "      <td>Data Science</td>\n",
              "      <td>education details may 2013 to may 2017 be uitr...</td>\n",
              "    </tr>\n",
              "    <tr>\n",
              "      <th>2</th>\n",
              "      <td>Data Science</td>\n",
              "      <td>areas of interest deep learning control system...</td>\n",
              "    </tr>\n",
              "    <tr>\n",
              "      <th>3</th>\n",
              "      <td>Data Science</td>\n",
              "      <td>skills  r  python  sap hana  tableau  sap hana...</td>\n",
              "    </tr>\n",
              "    <tr>\n",
              "      <th>4</th>\n",
              "      <td>Data Science</td>\n",
              "      <td>education details mca ymcaust faridabad haryan...</td>\n",
              "    </tr>\n",
              "  </tbody>\n",
              "</table>\n",
              "</div>\n",
              "    <div class=\"colab-df-buttons\">\n",
              "\n",
              "  <div class=\"colab-df-container\">\n",
              "    <button class=\"colab-df-convert\" onclick=\"convertToInteractive('df-4f2baff9-9d62-476c-9ba5-854311a1f7aa')\"\n",
              "            title=\"Convert this dataframe to an interactive table.\"\n",
              "            style=\"display:none;\">\n",
              "\n",
              "  <svg xmlns=\"http://www.w3.org/2000/svg\" height=\"24px\" viewBox=\"0 -960 960 960\">\n",
              "    <path d=\"M120-120v-720h720v720H120Zm60-500h600v-160H180v160Zm220 220h160v-160H400v160Zm0 220h160v-160H400v160ZM180-400h160v-160H180v160Zm440 0h160v-160H620v160ZM180-180h160v-160H180v160Zm440 0h160v-160H620v160Z\"/>\n",
              "  </svg>\n",
              "    </button>\n",
              "\n",
              "  <style>\n",
              "    .colab-df-container {\n",
              "      display:flex;\n",
              "      gap: 12px;\n",
              "    }\n",
              "\n",
              "    .colab-df-convert {\n",
              "      background-color: #E8F0FE;\n",
              "      border: none;\n",
              "      border-radius: 50%;\n",
              "      cursor: pointer;\n",
              "      display: none;\n",
              "      fill: #1967D2;\n",
              "      height: 32px;\n",
              "      padding: 0 0 0 0;\n",
              "      width: 32px;\n",
              "    }\n",
              "\n",
              "    .colab-df-convert:hover {\n",
              "      background-color: #E2EBFA;\n",
              "      box-shadow: 0px 1px 2px rgba(60, 64, 67, 0.3), 0px 1px 3px 1px rgba(60, 64, 67, 0.15);\n",
              "      fill: #174EA6;\n",
              "    }\n",
              "\n",
              "    .colab-df-buttons div {\n",
              "      margin-bottom: 4px;\n",
              "    }\n",
              "\n",
              "    [theme=dark] .colab-df-convert {\n",
              "      background-color: #3B4455;\n",
              "      fill: #D2E3FC;\n",
              "    }\n",
              "\n",
              "    [theme=dark] .colab-df-convert:hover {\n",
              "      background-color: #434B5C;\n",
              "      box-shadow: 0px 1px 3px 1px rgba(0, 0, 0, 0.15);\n",
              "      filter: drop-shadow(0px 1px 2px rgba(0, 0, 0, 0.3));\n",
              "      fill: #FFFFFF;\n",
              "    }\n",
              "  </style>\n",
              "\n",
              "    <script>\n",
              "      const buttonEl =\n",
              "        document.querySelector('#df-4f2baff9-9d62-476c-9ba5-854311a1f7aa button.colab-df-convert');\n",
              "      buttonEl.style.display =\n",
              "        google.colab.kernel.accessAllowed ? 'block' : 'none';\n",
              "\n",
              "      async function convertToInteractive(key) {\n",
              "        const element = document.querySelector('#df-4f2baff9-9d62-476c-9ba5-854311a1f7aa');\n",
              "        const dataTable =\n",
              "          await google.colab.kernel.invokeFunction('convertToInteractive',\n",
              "                                                    [key], {});\n",
              "        if (!dataTable) return;\n",
              "\n",
              "        const docLinkHtml = 'Like what you see? Visit the ' +\n",
              "          '<a target=\"_blank\" href=https://colab.research.google.com/notebooks/data_table.ipynb>data table notebook</a>'\n",
              "          + ' to learn more about interactive tables.';\n",
              "        element.innerHTML = '';\n",
              "        dataTable['output_type'] = 'display_data';\n",
              "        await google.colab.output.renderOutput(dataTable, element);\n",
              "        const docLink = document.createElement('div');\n",
              "        docLink.innerHTML = docLinkHtml;\n",
              "        element.appendChild(docLink);\n",
              "      }\n",
              "    </script>\n",
              "  </div>\n",
              "\n",
              "\n",
              "<div id=\"df-f73f3371-a654-40ff-8b47-1e822f412dd0\">\n",
              "  <button class=\"colab-df-quickchart\" onclick=\"quickchart('df-f73f3371-a654-40ff-8b47-1e822f412dd0')\"\n",
              "            title=\"Suggest charts\"\n",
              "            style=\"display:none;\">\n",
              "\n",
              "<svg xmlns=\"http://www.w3.org/2000/svg\" height=\"24px\"viewBox=\"0 0 24 24\"\n",
              "     width=\"24px\">\n",
              "    <g>\n",
              "        <path d=\"M19 3H5c-1.1 0-2 .9-2 2v14c0 1.1.9 2 2 2h14c1.1 0 2-.9 2-2V5c0-1.1-.9-2-2-2zM9 17H7v-7h2v7zm4 0h-2V7h2v10zm4 0h-2v-4h2v4z\"/>\n",
              "    </g>\n",
              "</svg>\n",
              "  </button>\n",
              "\n",
              "<style>\n",
              "  .colab-df-quickchart {\n",
              "      --bg-color: #E8F0FE;\n",
              "      --fill-color: #1967D2;\n",
              "      --hover-bg-color: #E2EBFA;\n",
              "      --hover-fill-color: #174EA6;\n",
              "      --disabled-fill-color: #AAA;\n",
              "      --disabled-bg-color: #DDD;\n",
              "  }\n",
              "\n",
              "  [theme=dark] .colab-df-quickchart {\n",
              "      --bg-color: #3B4455;\n",
              "      --fill-color: #D2E3FC;\n",
              "      --hover-bg-color: #434B5C;\n",
              "      --hover-fill-color: #FFFFFF;\n",
              "      --disabled-bg-color: #3B4455;\n",
              "      --disabled-fill-color: #666;\n",
              "  }\n",
              "\n",
              "  .colab-df-quickchart {\n",
              "    background-color: var(--bg-color);\n",
              "    border: none;\n",
              "    border-radius: 50%;\n",
              "    cursor: pointer;\n",
              "    display: none;\n",
              "    fill: var(--fill-color);\n",
              "    height: 32px;\n",
              "    padding: 0;\n",
              "    width: 32px;\n",
              "  }\n",
              "\n",
              "  .colab-df-quickchart:hover {\n",
              "    background-color: var(--hover-bg-color);\n",
              "    box-shadow: 0 1px 2px rgba(60, 64, 67, 0.3), 0 1px 3px 1px rgba(60, 64, 67, 0.15);\n",
              "    fill: var(--button-hover-fill-color);\n",
              "  }\n",
              "\n",
              "  .colab-df-quickchart-complete:disabled,\n",
              "  .colab-df-quickchart-complete:disabled:hover {\n",
              "    background-color: var(--disabled-bg-color);\n",
              "    fill: var(--disabled-fill-color);\n",
              "    box-shadow: none;\n",
              "  }\n",
              "\n",
              "  .colab-df-spinner {\n",
              "    border: 2px solid var(--fill-color);\n",
              "    border-color: transparent;\n",
              "    border-bottom-color: var(--fill-color);\n",
              "    animation:\n",
              "      spin 1s steps(1) infinite;\n",
              "  }\n",
              "\n",
              "  @keyframes spin {\n",
              "    0% {\n",
              "      border-color: transparent;\n",
              "      border-bottom-color: var(--fill-color);\n",
              "      border-left-color: var(--fill-color);\n",
              "    }\n",
              "    20% {\n",
              "      border-color: transparent;\n",
              "      border-left-color: var(--fill-color);\n",
              "      border-top-color: var(--fill-color);\n",
              "    }\n",
              "    30% {\n",
              "      border-color: transparent;\n",
              "      border-left-color: var(--fill-color);\n",
              "      border-top-color: var(--fill-color);\n",
              "      border-right-color: var(--fill-color);\n",
              "    }\n",
              "    40% {\n",
              "      border-color: transparent;\n",
              "      border-right-color: var(--fill-color);\n",
              "      border-top-color: var(--fill-color);\n",
              "    }\n",
              "    60% {\n",
              "      border-color: transparent;\n",
              "      border-right-color: var(--fill-color);\n",
              "    }\n",
              "    80% {\n",
              "      border-color: transparent;\n",
              "      border-right-color: var(--fill-color);\n",
              "      border-bottom-color: var(--fill-color);\n",
              "    }\n",
              "    90% {\n",
              "      border-color: transparent;\n",
              "      border-bottom-color: var(--fill-color);\n",
              "    }\n",
              "  }\n",
              "</style>\n",
              "\n",
              "  <script>\n",
              "    async function quickchart(key) {\n",
              "      const quickchartButtonEl =\n",
              "        document.querySelector('#' + key + ' button');\n",
              "      quickchartButtonEl.disabled = true;  // To prevent multiple clicks.\n",
              "      quickchartButtonEl.classList.add('colab-df-spinner');\n",
              "      try {\n",
              "        const charts = await google.colab.kernel.invokeFunction(\n",
              "            'suggestCharts', [key], {});\n",
              "      } catch (error) {\n",
              "        console.error('Error during call to suggestCharts:', error);\n",
              "      }\n",
              "      quickchartButtonEl.classList.remove('colab-df-spinner');\n",
              "      quickchartButtonEl.classList.add('colab-df-quickchart-complete');\n",
              "    }\n",
              "    (() => {\n",
              "      let quickchartButtonEl =\n",
              "        document.querySelector('#df-f73f3371-a654-40ff-8b47-1e822f412dd0 button');\n",
              "      quickchartButtonEl.style.display =\n",
              "        google.colab.kernel.accessAllowed ? 'block' : 'none';\n",
              "    })();\n",
              "  </script>\n",
              "</div>\n",
              "\n",
              "    </div>\n",
              "  </div>\n"
            ],
            "application/vnd.google.colaboratory.intrinsic+json": {
              "type": "dataframe",
              "variable_name": "data",
              "summary": "{\n  \"name\": \"data\",\n  \"rows\": 962,\n  \"fields\": [\n    {\n      \"column\": \"Category\",\n      \"properties\": {\n        \"dtype\": \"category\",\n        \"num_unique_values\": 25,\n        \"samples\": [\n          \"Civil Engineer\",\n          \"DevOps Engineer\",\n          \"Data Science\"\n        ],\n        \"semantic_type\": \"\",\n        \"description\": \"\"\n      }\n    },\n    {\n      \"column\": \"Resume\",\n      \"properties\": {\n        \"dtype\": \"category\",\n        \"num_unique_values\": 166,\n        \"samples\": [\n          \"key competencies multi  operations managementpeople management customer services  emails  mis vendor & client services managementcross functional coordinationbanking & financial services transaction monitoring  atm operations  & prepaid card operations preissuance & postissuance  pos operations  job profile & skills:  an effective communicator with excellent relationship building & interpersonal skills strong analytical problem solving & organizational abilities  extensive experience in managing operations with demonstrated leadership qualities & organisational skills during the tenure  managing customer centric operations & ensuring customer satisfaction by achieving service quality norms  analyzing of all operational problems customer complaints and take preventive and corrective actions to resolve the same  receive and respond to key customer inquiries in an effective manner and provide relevant and timely information  deft in steering banking backend operations analyzing risks and managing delinquencies with dexterity across applying techniques for maximizing recoveries and minimizing credit losses  analyzed & identified training needs of the team members and developing organizing and conducting training programs and manage bottom quartile team to improve their performance  preparing and maintaining daily mis reports to evaluate the performance and efficiency of the process relate to various verticals  measuring the performance of the processes in terms of efficiency and effectiveness matrix and ensuring adherence to sla  major activities define processes for field services were monitored and necessary checks were executed and controlled also measured vendor sla by analyzing the tat of vendors & the client sla provided to us  as per company procedures handling & ensuring vendor's payment issues to be sorted out &payments are processed on quarterly basis  appropriately plan and execute each skill of operations in accordance with the department's policies and procedures  manage relationships with business team software development team and other services to achieve project objectives different software worked till now:  a ctl prime  axis bank credit cards b insight  for pos machine technical operations for amex mid & tid generation atos venture infotek c ticket management system  tata communications private services ltd atm  noc operations d branch portal yalamanchili software exports ltd  prepaid cards sbi bank & zaggle prepaid oceans services ltd zaggle prepaid ocean services pvt ltd oct 2017 to till date designation: manager  operations payment industry  prepaid cards  inr education details commerce mumbai maharashtra mumbai university operations manager service manager  operations payment industry  prepaid cards  inr & ftc skill details operations exprience  73 months satisfaction exprience  48 months training exprience  24 months noc exprience  23 months point of sale exprience  20 monthscompany details company  zaggle prepaid ocean services pvt ltd description  card operations company  yalamanchili software exports ltd description  247 operations pvt ltd dec 2015 to feb 2017 designation: service manager  operations payment industry  prepaid cards  inr & ftc key contributions:  a resultoriented business professional in planning executing& managing processes improving efficiency of operations team building and detailing process information to determine effective result into operations  ensuring pins generation sla is maintained and chargeback cases are raised in perfect timeframe  managing email customer services properly and ensuring the emails are replied properly also ensuring transaction monitoring is properly managed 247  assisting bankers sbi & associated banks for their bcp plans by getting executed in the system with the help of drpr plans & vice versa or any other business requirements  expertise in maintaining highest level of quality in operations; ensuring adherence to all the quality parameters and procedures as per the stringent norms  lead manage and supervise the execution of external audit engagements and responsible for presenting the findings & developing a quality reports to the senior management and clients  coachmentor 20 team members to perform at a higher level by giving opportunities providing timely continuous feedback and working with staff to improve their communication time management decision making organization and analytical skills  providing the solutions and services to the client in their own premises with aforesaid count of team members  also ensuring end to end process of pr & dr as per client requirements pr dr & dr pr by interacting with internal & external stakeholders  determining process gaps and designing & conducting training programs to enhance operational efficiency and retain talent by providing optimum opportunities for personal and professional growth company  credit cards description  ensured highest standard of customer satisfaction and quality service; developing new policies and procedures to improve based on customer feedback and resolving customer queries via correspondence inbound calls & email channels with the strength of 1216 team members company  ags transact technologies limited description  key contributions: lead  spoc to banks company  tata communications payment solutions ltd description  to make atms operational within tat by analyzing the issue is technical or nontechnical and also by interacting with internal & external stakeholders company  vertex customer solutions india private ltd description  key contributions:  build positive working relationship with all team members and clients by keeping management informed of kyc document collection & concurrent audit progress responding timely to management inquiries understanding the business and conducting self professionally company  financial inclusion network & operations limited description  key contributions: posoperations  cascading the adherence of process is strictly followed by team members & training them to reduce the downtime  managing stock of edc terminals  managing deployments of terminals through multiple teams  would have worked with multiple terminal make & model  managing inward outward & qc of applications installed in the pos machines company  venture infotek private ltd description  key contributions: posoperations company  axis bank ltd  customer services description  aug 2006 to oct 2009 mafoi&i smart designation: team leaderexecutive  emails phone banking & correspondence unit snail mails\",\n          \"skill set: hadoop map reduce hdfs hive sqoop java duration: 2016 to 2017 role: hadoop developer rplus offers an quick simple and powerful cloud based solution demand sense to accurately predict demand for your product in all your markets which combines enterprise and external data to predict demand more accurately through uses social conversation and sentiments to derive demand and identifies significant drivers of sale out of hordes of factors that selects the best suited model out of multiple forecasting models for each product responsibilities:  involved in deploying the product for customers gathering requirements and algorithm optimization at backend of the product  load and transform large datasets of structured semi structured  responsible to manage data coming from different sources and application  supported map reduce programs those are running on the cluster  involved in creating hive tables loading with data and writing hive queries which will run internally in map reduce wayeducation details hadoop developer hadoop developer  braindatawire skill details apache hadoop hdfs exprience  49 months apache hadoop sqoop exprience  49 months hadoop exprience  49 months hadoop exprience  49 months hadoop distributed file system exprience  49 monthscompany details company  braindatawire description  technical skills:  programming: core java map reduce scala  hadoop tools: hdfs spark map reduce sqoop hive hbase  database: mysql oracle  scripting: shell scripting  ide: eclipse  operating systems: linux centos windows  source control: git github\",\n          \"it skills: area exposure modeling tool: bizagi ms visio prototyping tool: indigo studio documentation: ms office ms word ms excel ms power point testing proficiency: smoke sanity integration functional acceptance and ui methodology implemented: waterfall agile scrum database: sql testing tool: hpqc business exposure education details bachelor of computer engineering computer engineering mumbai maharashtra thadomal shahani engineering college diploma computer engineering ulhasnagar maharashtra institute of technology secondary school certificate ulhasnagar maharashtra new english high school senior business analyst  rpa senior business analyst  rpa  hexaware technologies skill details documentation exprience  47 months testing exprience  29 months integration exprience  25 months integrator exprience  25 months prototype exprience  13 monthscompany details company  hexaware technologies description  working as a rpa business analyst company  bbh brown brothers harriman & co description  is a private bank that provides commercial banking investment management brokerage and trust services to private companies and individuals it also performs merger advisory foreign exchange custody services commercial banking and corporate financing services responsibilities:  performed automation assessment of various processes and identified processes which can be candidates of rpa  conducting assessment that involves an initial understanding of the existing system their technology processes usage of the tools feasibility of tool with automation tool along with automation roi analysis  preparing the automation potential sheet which describes the steps in the process the volume and frequency of the transaction the aht taken by sme to perform the process and depending on the steps that could be automated automation potential and the manual efforts that will be saved are calculated calculating the complexity of the process which is considered for automation and depending on all these factors number of bots and number of automation tool licenses are determined  implementing a proof of concept poc to validate feasibility by executing the selected critical use cases for conducting a poc which will helps to identify financial and operational benefits and provide recommendations regarding the actual need for complete automation  gathering business requirements by conducting detailed interviews with business users stakeholders and subject matter experts sme's  preparing business requirement document and then converted business requirements into functional requirements specification  constructing prototype early toward a design acceptable to the customer and feasible  assisting in designing test plans test scenarios and test cases for integration regression and user acceptance testing uat to improve the overall quality of the automation  participating regularly in walkthroughs and review meetings with project manager qa engineers and development team  regularly interacting with offshore and onshore development teams company  fadv  first advantage description  is a criminal background check company that delivers global solutions ranging from employment screenings to background checks the following are the processes which were covered: email process research process review process responsibilities:  requirement gathering through conducting interviews & brainstorming sessions with stakeholders  to develop decision models and execute those rules as per the use case specifications  to testvalidate the decision models against document test data  to maintain and enhance the decision models for changes in regulations as per use case specifications  responsible for performing the business research that will make a business growth  developing a clear understanding of existing business functions and processes  effectively communicate with the onsite clients for the queries suggestions and update  giving suggestions to enhance the current processes  identifying areas for process improvement  flagging up potential problems at an early stage  preparing powerpoint presentations and documents for business meetings  using any information gathered to write up detailed reports  highlighting risks and issues that could impact project delivery  able to work accurately  to develop and maintain documentation for internal team training and client end user operations  to work efficiently with team members and across teams  to mentor and train junior team members company  clinical testing lab work and diagnostic testing description  iqvia provides services to its customers this includes: clinical testing lab work and diagnostic testing under clinical trial these customers need to pay to iqvia and aging details and invoices are generated for the same the following are the processes which were covered: tracking payments automated real time metrics reporting dashboard past due notifications ar statements creditrebill responsibilities:  conducting meetings with clients and key stakeholders to gather requirements analyze finalize and have formal signoffs from approvers gather and perform analysis of the business requirements  translating the business requirements into the business requirement document [brd] functional requirement document [frd]  facilitating meetings with the appropriate subject matter experts in both business and technology teams  coordinating with business user community for the execution of user acceptance test as well as tracking issues  working collaborating and coordinating with offshore and onsite team members to fulfill the ba responsibilities from project initiation to postimplementation  reviewing the test scripts with business users as well as technology team execute test scripts with expected results for the system integration test sit and user acceptance test uat  coordinating and conducting the production acceptance testing pat with the business users  creating flow diagrams structure charts and other types of system or process representations  managing changes to requirements and baseline through a change control process  utilizing standard methods design and testing tools throughout project development life cycle  work closely with the operational functional teams operations management and personnel and various technology teams to facilitate a shared understanding of requirements and priorities across all areas company  eduavenir it solution description  project: mbms mbms  is an inventory management application that allows user to manage inventory details of different warehouses having different products located at various locations and help extract what goods have been procured sold or returned by customers it generates automated invoicesalong withcustomized reports it also managescustomer complaint and resolution system implementation along with automated mis on monthly basissales and forecastingis also developed on mis system and the streamlining of process of warehousing and dispatch along with online proof of delivery management system pod documentation is generated responsibilities:  participate in requirement gathering discussion with client to understand the flow of business processes  analyze the requirements and determine the core processes develop process documentation and ensure to stay uptodate in conjunction with ongoing changes  participate in process flow analysis and preparing brd srs  coordinating with developers designers & operations teams for various nuances of the project communicate the stakeholder requirements from requirement enhancement to implementation and finally deliver the same within estimated timeframe  support uat by reviewing test cases manage version control of documents software builds  coordinate with the stakeholders for uat sign off and coordinate internally for production movement till golive stage of the application  provide demo and training to internal and end user using powerpoint presentation  resolving project functional &technical issues during uat  prioritizing the production bugs and resolving the same within the estimated timeframe  preparing project status report and production bugs status to all the stakeholders  promoting and networking for online trading platform  designing query sheet for obtaining and comparison of quotes from various vendors  development of product codes  material codes for inventory management master data management company  capgemini head office description  type: mobile and device testing duration: january 2014  august 2014 follet  an application which takes an electronic request from the user for the books he requires from a particular follet store this detailed information about books that will include the name of the book its price the date of the transaction and the parties involved which will then be sent to follet stores user then create request for one or more books for a given date this request is then processed further and user gets a mail of the date when he will be provided with that book responsibilities:  understanding the needs and business requirements  preparing brd srs by eliciting all the requirements from the client and smes  understanding the dependency of the modules in the system  preparation of test plan for unit level and integration level  preparation and execution of test cases  defect tracking issue resolution risk monitoring status tracking reporting and followup  preparation of test completion report company  capgemini head office description  company  capgemini head office description  humana is a health care insurance project of us which deals with supplying various medicines to citizens as per the doctor's reference and patient's insurance policy this application keeps track of all the medicines user has consumed in the past and generates a patient history a citizen is given a drug only after the doctor's reference so the doctor's information is also linked with the patient's history responsibilities:  understanding the requirements and getting clarifications from client  involved in writing test cases based on test scenarios and execute them  ensuring test coverage using requirement traceability matrix rtm  preparation of test completion report company  capgemini head office description  testing trends wqr world quality report is an application which allows the users to take a survey on different methods and technologies used for testing users can choose to answer any type of questions under three different categories users have a facility to search view and export the data to excel also users get daily and weekly reports through email about the new trends in testing implemented around the globe testing trends wqr app is available on android and ios platforms responsibilities:  understanding the requirements and getting clarifications from client  writing test cases based on test scenarios and executed them  performing different types of testing such as functional integration system and uat  defect resolution and maintenance of the application\"\n        ],\n        \"semantic_type\": \"\",\n        \"description\": \"\"\n      }\n    }\n  ]\n}"
            }
          },
          "metadata": {},
          "execution_count": 17
        }
      ]
    },
    {
      "cell_type": "code",
      "source": [
        "from sklearn.preprocessing import LabelEncoder\n",
        "le = LabelEncoder()"
      ],
      "metadata": {
        "id": "xiFJo675vsc4"
      },
      "execution_count": 18,
      "outputs": []
    },
    {
      "cell_type": "code",
      "source": [
        "le.fit(data['Category'])\n",
        "data['Category'] = le.transform(data['Category'])"
      ],
      "metadata": {
        "id": "NGpA5_uowiKk"
      },
      "execution_count": 19,
      "outputs": []
    },
    {
      "cell_type": "code",
      "source": [
        "data.head()"
      ],
      "metadata": {
        "colab": {
          "base_uri": "https://localhost:8080/",
          "height": 206
        },
        "id": "8_9ad6Oowy92",
        "outputId": "0352000c-96ef-48bc-b0d5-cf2e4f981327"
      },
      "execution_count": 20,
      "outputs": [
        {
          "output_type": "execute_result",
          "data": {
            "text/plain": [
              "   Category                                             Resume\n",
              "0         6  skills  programming languages: python pandas n...\n",
              "1         6  education details may 2013 to may 2017 be uitr...\n",
              "2         6  areas of interest deep learning control system...\n",
              "3         6  skills  r  python  sap hana  tableau  sap hana...\n",
              "4         6  education details mca ymcaust faridabad haryan..."
            ],
            "text/html": [
              "\n",
              "  <div id=\"df-0c14d4f5-10b3-42d3-b12c-4d26a6b5e9e5\" class=\"colab-df-container\">\n",
              "    <div>\n",
              "<style scoped>\n",
              "    .dataframe tbody tr th:only-of-type {\n",
              "        vertical-align: middle;\n",
              "    }\n",
              "\n",
              "    .dataframe tbody tr th {\n",
              "        vertical-align: top;\n",
              "    }\n",
              "\n",
              "    .dataframe thead th {\n",
              "        text-align: right;\n",
              "    }\n",
              "</style>\n",
              "<table border=\"1\" class=\"dataframe\">\n",
              "  <thead>\n",
              "    <tr style=\"text-align: right;\">\n",
              "      <th></th>\n",
              "      <th>Category</th>\n",
              "      <th>Resume</th>\n",
              "    </tr>\n",
              "  </thead>\n",
              "  <tbody>\n",
              "    <tr>\n",
              "      <th>0</th>\n",
              "      <td>6</td>\n",
              "      <td>skills  programming languages: python pandas n...</td>\n",
              "    </tr>\n",
              "    <tr>\n",
              "      <th>1</th>\n",
              "      <td>6</td>\n",
              "      <td>education details may 2013 to may 2017 be uitr...</td>\n",
              "    </tr>\n",
              "    <tr>\n",
              "      <th>2</th>\n",
              "      <td>6</td>\n",
              "      <td>areas of interest deep learning control system...</td>\n",
              "    </tr>\n",
              "    <tr>\n",
              "      <th>3</th>\n",
              "      <td>6</td>\n",
              "      <td>skills  r  python  sap hana  tableau  sap hana...</td>\n",
              "    </tr>\n",
              "    <tr>\n",
              "      <th>4</th>\n",
              "      <td>6</td>\n",
              "      <td>education details mca ymcaust faridabad haryan...</td>\n",
              "    </tr>\n",
              "  </tbody>\n",
              "</table>\n",
              "</div>\n",
              "    <div class=\"colab-df-buttons\">\n",
              "\n",
              "  <div class=\"colab-df-container\">\n",
              "    <button class=\"colab-df-convert\" onclick=\"convertToInteractive('df-0c14d4f5-10b3-42d3-b12c-4d26a6b5e9e5')\"\n",
              "            title=\"Convert this dataframe to an interactive table.\"\n",
              "            style=\"display:none;\">\n",
              "\n",
              "  <svg xmlns=\"http://www.w3.org/2000/svg\" height=\"24px\" viewBox=\"0 -960 960 960\">\n",
              "    <path d=\"M120-120v-720h720v720H120Zm60-500h600v-160H180v160Zm220 220h160v-160H400v160Zm0 220h160v-160H400v160ZM180-400h160v-160H180v160Zm440 0h160v-160H620v160ZM180-180h160v-160H180v160Zm440 0h160v-160H620v160Z\"/>\n",
              "  </svg>\n",
              "    </button>\n",
              "\n",
              "  <style>\n",
              "    .colab-df-container {\n",
              "      display:flex;\n",
              "      gap: 12px;\n",
              "    }\n",
              "\n",
              "    .colab-df-convert {\n",
              "      background-color: #E8F0FE;\n",
              "      border: none;\n",
              "      border-radius: 50%;\n",
              "      cursor: pointer;\n",
              "      display: none;\n",
              "      fill: #1967D2;\n",
              "      height: 32px;\n",
              "      padding: 0 0 0 0;\n",
              "      width: 32px;\n",
              "    }\n",
              "\n",
              "    .colab-df-convert:hover {\n",
              "      background-color: #E2EBFA;\n",
              "      box-shadow: 0px 1px 2px rgba(60, 64, 67, 0.3), 0px 1px 3px 1px rgba(60, 64, 67, 0.15);\n",
              "      fill: #174EA6;\n",
              "    }\n",
              "\n",
              "    .colab-df-buttons div {\n",
              "      margin-bottom: 4px;\n",
              "    }\n",
              "\n",
              "    [theme=dark] .colab-df-convert {\n",
              "      background-color: #3B4455;\n",
              "      fill: #D2E3FC;\n",
              "    }\n",
              "\n",
              "    [theme=dark] .colab-df-convert:hover {\n",
              "      background-color: #434B5C;\n",
              "      box-shadow: 0px 1px 3px 1px rgba(0, 0, 0, 0.15);\n",
              "      filter: drop-shadow(0px 1px 2px rgba(0, 0, 0, 0.3));\n",
              "      fill: #FFFFFF;\n",
              "    }\n",
              "  </style>\n",
              "\n",
              "    <script>\n",
              "      const buttonEl =\n",
              "        document.querySelector('#df-0c14d4f5-10b3-42d3-b12c-4d26a6b5e9e5 button.colab-df-convert');\n",
              "      buttonEl.style.display =\n",
              "        google.colab.kernel.accessAllowed ? 'block' : 'none';\n",
              "\n",
              "      async function convertToInteractive(key) {\n",
              "        const element = document.querySelector('#df-0c14d4f5-10b3-42d3-b12c-4d26a6b5e9e5');\n",
              "        const dataTable =\n",
              "          await google.colab.kernel.invokeFunction('convertToInteractive',\n",
              "                                                    [key], {});\n",
              "        if (!dataTable) return;\n",
              "\n",
              "        const docLinkHtml = 'Like what you see? Visit the ' +\n",
              "          '<a target=\"_blank\" href=https://colab.research.google.com/notebooks/data_table.ipynb>data table notebook</a>'\n",
              "          + ' to learn more about interactive tables.';\n",
              "        element.innerHTML = '';\n",
              "        dataTable['output_type'] = 'display_data';\n",
              "        await google.colab.output.renderOutput(dataTable, element);\n",
              "        const docLink = document.createElement('div');\n",
              "        docLink.innerHTML = docLinkHtml;\n",
              "        element.appendChild(docLink);\n",
              "      }\n",
              "    </script>\n",
              "  </div>\n",
              "\n",
              "\n",
              "<div id=\"df-fa4c7c2c-699b-4420-95ec-f1a904575536\">\n",
              "  <button class=\"colab-df-quickchart\" onclick=\"quickchart('df-fa4c7c2c-699b-4420-95ec-f1a904575536')\"\n",
              "            title=\"Suggest charts\"\n",
              "            style=\"display:none;\">\n",
              "\n",
              "<svg xmlns=\"http://www.w3.org/2000/svg\" height=\"24px\"viewBox=\"0 0 24 24\"\n",
              "     width=\"24px\">\n",
              "    <g>\n",
              "        <path d=\"M19 3H5c-1.1 0-2 .9-2 2v14c0 1.1.9 2 2 2h14c1.1 0 2-.9 2-2V5c0-1.1-.9-2-2-2zM9 17H7v-7h2v7zm4 0h-2V7h2v10zm4 0h-2v-4h2v4z\"/>\n",
              "    </g>\n",
              "</svg>\n",
              "  </button>\n",
              "\n",
              "<style>\n",
              "  .colab-df-quickchart {\n",
              "      --bg-color: #E8F0FE;\n",
              "      --fill-color: #1967D2;\n",
              "      --hover-bg-color: #E2EBFA;\n",
              "      --hover-fill-color: #174EA6;\n",
              "      --disabled-fill-color: #AAA;\n",
              "      --disabled-bg-color: #DDD;\n",
              "  }\n",
              "\n",
              "  [theme=dark] .colab-df-quickchart {\n",
              "      --bg-color: #3B4455;\n",
              "      --fill-color: #D2E3FC;\n",
              "      --hover-bg-color: #434B5C;\n",
              "      --hover-fill-color: #FFFFFF;\n",
              "      --disabled-bg-color: #3B4455;\n",
              "      --disabled-fill-color: #666;\n",
              "  }\n",
              "\n",
              "  .colab-df-quickchart {\n",
              "    background-color: var(--bg-color);\n",
              "    border: none;\n",
              "    border-radius: 50%;\n",
              "    cursor: pointer;\n",
              "    display: none;\n",
              "    fill: var(--fill-color);\n",
              "    height: 32px;\n",
              "    padding: 0;\n",
              "    width: 32px;\n",
              "  }\n",
              "\n",
              "  .colab-df-quickchart:hover {\n",
              "    background-color: var(--hover-bg-color);\n",
              "    box-shadow: 0 1px 2px rgba(60, 64, 67, 0.3), 0 1px 3px 1px rgba(60, 64, 67, 0.15);\n",
              "    fill: var(--button-hover-fill-color);\n",
              "  }\n",
              "\n",
              "  .colab-df-quickchart-complete:disabled,\n",
              "  .colab-df-quickchart-complete:disabled:hover {\n",
              "    background-color: var(--disabled-bg-color);\n",
              "    fill: var(--disabled-fill-color);\n",
              "    box-shadow: none;\n",
              "  }\n",
              "\n",
              "  .colab-df-spinner {\n",
              "    border: 2px solid var(--fill-color);\n",
              "    border-color: transparent;\n",
              "    border-bottom-color: var(--fill-color);\n",
              "    animation:\n",
              "      spin 1s steps(1) infinite;\n",
              "  }\n",
              "\n",
              "  @keyframes spin {\n",
              "    0% {\n",
              "      border-color: transparent;\n",
              "      border-bottom-color: var(--fill-color);\n",
              "      border-left-color: var(--fill-color);\n",
              "    }\n",
              "    20% {\n",
              "      border-color: transparent;\n",
              "      border-left-color: var(--fill-color);\n",
              "      border-top-color: var(--fill-color);\n",
              "    }\n",
              "    30% {\n",
              "      border-color: transparent;\n",
              "      border-left-color: var(--fill-color);\n",
              "      border-top-color: var(--fill-color);\n",
              "      border-right-color: var(--fill-color);\n",
              "    }\n",
              "    40% {\n",
              "      border-color: transparent;\n",
              "      border-right-color: var(--fill-color);\n",
              "      border-top-color: var(--fill-color);\n",
              "    }\n",
              "    60% {\n",
              "      border-color: transparent;\n",
              "      border-right-color: var(--fill-color);\n",
              "    }\n",
              "    80% {\n",
              "      border-color: transparent;\n",
              "      border-right-color: var(--fill-color);\n",
              "      border-bottom-color: var(--fill-color);\n",
              "    }\n",
              "    90% {\n",
              "      border-color: transparent;\n",
              "      border-bottom-color: var(--fill-color);\n",
              "    }\n",
              "  }\n",
              "</style>\n",
              "\n",
              "  <script>\n",
              "    async function quickchart(key) {\n",
              "      const quickchartButtonEl =\n",
              "        document.querySelector('#' + key + ' button');\n",
              "      quickchartButtonEl.disabled = true;  // To prevent multiple clicks.\n",
              "      quickchartButtonEl.classList.add('colab-df-spinner');\n",
              "      try {\n",
              "        const charts = await google.colab.kernel.invokeFunction(\n",
              "            'suggestCharts', [key], {});\n",
              "      } catch (error) {\n",
              "        console.error('Error during call to suggestCharts:', error);\n",
              "      }\n",
              "      quickchartButtonEl.classList.remove('colab-df-spinner');\n",
              "      quickchartButtonEl.classList.add('colab-df-quickchart-complete');\n",
              "    }\n",
              "    (() => {\n",
              "      let quickchartButtonEl =\n",
              "        document.querySelector('#df-fa4c7c2c-699b-4420-95ec-f1a904575536 button');\n",
              "      quickchartButtonEl.style.display =\n",
              "        google.colab.kernel.accessAllowed ? 'block' : 'none';\n",
              "    })();\n",
              "  </script>\n",
              "</div>\n",
              "\n",
              "    </div>\n",
              "  </div>\n"
            ],
            "application/vnd.google.colaboratory.intrinsic+json": {
              "type": "dataframe",
              "variable_name": "data",
              "summary": "{\n  \"name\": \"data\",\n  \"rows\": 962,\n  \"fields\": [\n    {\n      \"column\": \"Category\",\n      \"properties\": {\n        \"dtype\": \"number\",\n        \"std\": 7,\n        \"min\": 0,\n        \"max\": 24,\n        \"num_unique_values\": 25,\n        \"samples\": [\n          5,\n          8,\n          6\n        ],\n        \"semantic_type\": \"\",\n        \"description\": \"\"\n      }\n    },\n    {\n      \"column\": \"Resume\",\n      \"properties\": {\n        \"dtype\": \"category\",\n        \"num_unique_values\": 166,\n        \"samples\": [\n          \"key competencies multi  operations managementpeople management customer services  emails  mis vendor & client services managementcross functional coordinationbanking & financial services transaction monitoring  atm operations  & prepaid card operations preissuance & postissuance  pos operations  job profile & skills:  an effective communicator with excellent relationship building & interpersonal skills strong analytical problem solving & organizational abilities  extensive experience in managing operations with demonstrated leadership qualities & organisational skills during the tenure  managing customer centric operations & ensuring customer satisfaction by achieving service quality norms  analyzing of all operational problems customer complaints and take preventive and corrective actions to resolve the same  receive and respond to key customer inquiries in an effective manner and provide relevant and timely information  deft in steering banking backend operations analyzing risks and managing delinquencies with dexterity across applying techniques for maximizing recoveries and minimizing credit losses  analyzed & identified training needs of the team members and developing organizing and conducting training programs and manage bottom quartile team to improve their performance  preparing and maintaining daily mis reports to evaluate the performance and efficiency of the process relate to various verticals  measuring the performance of the processes in terms of efficiency and effectiveness matrix and ensuring adherence to sla  major activities define processes for field services were monitored and necessary checks were executed and controlled also measured vendor sla by analyzing the tat of vendors & the client sla provided to us  as per company procedures handling & ensuring vendor's payment issues to be sorted out &payments are processed on quarterly basis  appropriately plan and execute each skill of operations in accordance with the department's policies and procedures  manage relationships with business team software development team and other services to achieve project objectives different software worked till now:  a ctl prime  axis bank credit cards b insight  for pos machine technical operations for amex mid & tid generation atos venture infotek c ticket management system  tata communications private services ltd atm  noc operations d branch portal yalamanchili software exports ltd  prepaid cards sbi bank & zaggle prepaid oceans services ltd zaggle prepaid ocean services pvt ltd oct 2017 to till date designation: manager  operations payment industry  prepaid cards  inr education details commerce mumbai maharashtra mumbai university operations manager service manager  operations payment industry  prepaid cards  inr & ftc skill details operations exprience  73 months satisfaction exprience  48 months training exprience  24 months noc exprience  23 months point of sale exprience  20 monthscompany details company  zaggle prepaid ocean services pvt ltd description  card operations company  yalamanchili software exports ltd description  247 operations pvt ltd dec 2015 to feb 2017 designation: service manager  operations payment industry  prepaid cards  inr & ftc key contributions:  a resultoriented business professional in planning executing& managing processes improving efficiency of operations team building and detailing process information to determine effective result into operations  ensuring pins generation sla is maintained and chargeback cases are raised in perfect timeframe  managing email customer services properly and ensuring the emails are replied properly also ensuring transaction monitoring is properly managed 247  assisting bankers sbi & associated banks for their bcp plans by getting executed in the system with the help of drpr plans & vice versa or any other business requirements  expertise in maintaining highest level of quality in operations; ensuring adherence to all the quality parameters and procedures as per the stringent norms  lead manage and supervise the execution of external audit engagements and responsible for presenting the findings & developing a quality reports to the senior management and clients  coachmentor 20 team members to perform at a higher level by giving opportunities providing timely continuous feedback and working with staff to improve their communication time management decision making organization and analytical skills  providing the solutions and services to the client in their own premises with aforesaid count of team members  also ensuring end to end process of pr & dr as per client requirements pr dr & dr pr by interacting with internal & external stakeholders  determining process gaps and designing & conducting training programs to enhance operational efficiency and retain talent by providing optimum opportunities for personal and professional growth company  credit cards description  ensured highest standard of customer satisfaction and quality service; developing new policies and procedures to improve based on customer feedback and resolving customer queries via correspondence inbound calls & email channels with the strength of 1216 team members company  ags transact technologies limited description  key contributions: lead  spoc to banks company  tata communications payment solutions ltd description  to make atms operational within tat by analyzing the issue is technical or nontechnical and also by interacting with internal & external stakeholders company  vertex customer solutions india private ltd description  key contributions:  build positive working relationship with all team members and clients by keeping management informed of kyc document collection & concurrent audit progress responding timely to management inquiries understanding the business and conducting self professionally company  financial inclusion network & operations limited description  key contributions: posoperations  cascading the adherence of process is strictly followed by team members & training them to reduce the downtime  managing stock of edc terminals  managing deployments of terminals through multiple teams  would have worked with multiple terminal make & model  managing inward outward & qc of applications installed in the pos machines company  venture infotek private ltd description  key contributions: posoperations company  axis bank ltd  customer services description  aug 2006 to oct 2009 mafoi&i smart designation: team leaderexecutive  emails phone banking & correspondence unit snail mails\",\n          \"skill set: hadoop map reduce hdfs hive sqoop java duration: 2016 to 2017 role: hadoop developer rplus offers an quick simple and powerful cloud based solution demand sense to accurately predict demand for your product in all your markets which combines enterprise and external data to predict demand more accurately through uses social conversation and sentiments to derive demand and identifies significant drivers of sale out of hordes of factors that selects the best suited model out of multiple forecasting models for each product responsibilities:  involved in deploying the product for customers gathering requirements and algorithm optimization at backend of the product  load and transform large datasets of structured semi structured  responsible to manage data coming from different sources and application  supported map reduce programs those are running on the cluster  involved in creating hive tables loading with data and writing hive queries which will run internally in map reduce wayeducation details hadoop developer hadoop developer  braindatawire skill details apache hadoop hdfs exprience  49 months apache hadoop sqoop exprience  49 months hadoop exprience  49 months hadoop exprience  49 months hadoop distributed file system exprience  49 monthscompany details company  braindatawire description  technical skills:  programming: core java map reduce scala  hadoop tools: hdfs spark map reduce sqoop hive hbase  database: mysql oracle  scripting: shell scripting  ide: eclipse  operating systems: linux centos windows  source control: git github\",\n          \"it skills: area exposure modeling tool: bizagi ms visio prototyping tool: indigo studio documentation: ms office ms word ms excel ms power point testing proficiency: smoke sanity integration functional acceptance and ui methodology implemented: waterfall agile scrum database: sql testing tool: hpqc business exposure education details bachelor of computer engineering computer engineering mumbai maharashtra thadomal shahani engineering college diploma computer engineering ulhasnagar maharashtra institute of technology secondary school certificate ulhasnagar maharashtra new english high school senior business analyst  rpa senior business analyst  rpa  hexaware technologies skill details documentation exprience  47 months testing exprience  29 months integration exprience  25 months integrator exprience  25 months prototype exprience  13 monthscompany details company  hexaware technologies description  working as a rpa business analyst company  bbh brown brothers harriman & co description  is a private bank that provides commercial banking investment management brokerage and trust services to private companies and individuals it also performs merger advisory foreign exchange custody services commercial banking and corporate financing services responsibilities:  performed automation assessment of various processes and identified processes which can be candidates of rpa  conducting assessment that involves an initial understanding of the existing system their technology processes usage of the tools feasibility of tool with automation tool along with automation roi analysis  preparing the automation potential sheet which describes the steps in the process the volume and frequency of the transaction the aht taken by sme to perform the process and depending on the steps that could be automated automation potential and the manual efforts that will be saved are calculated calculating the complexity of the process which is considered for automation and depending on all these factors number of bots and number of automation tool licenses are determined  implementing a proof of concept poc to validate feasibility by executing the selected critical use cases for conducting a poc which will helps to identify financial and operational benefits and provide recommendations regarding the actual need for complete automation  gathering business requirements by conducting detailed interviews with business users stakeholders and subject matter experts sme's  preparing business requirement document and then converted business requirements into functional requirements specification  constructing prototype early toward a design acceptable to the customer and feasible  assisting in designing test plans test scenarios and test cases for integration regression and user acceptance testing uat to improve the overall quality of the automation  participating regularly in walkthroughs and review meetings with project manager qa engineers and development team  regularly interacting with offshore and onshore development teams company  fadv  first advantage description  is a criminal background check company that delivers global solutions ranging from employment screenings to background checks the following are the processes which were covered: email process research process review process responsibilities:  requirement gathering through conducting interviews & brainstorming sessions with stakeholders  to develop decision models and execute those rules as per the use case specifications  to testvalidate the decision models against document test data  to maintain and enhance the decision models for changes in regulations as per use case specifications  responsible for performing the business research that will make a business growth  developing a clear understanding of existing business functions and processes  effectively communicate with the onsite clients for the queries suggestions and update  giving suggestions to enhance the current processes  identifying areas for process improvement  flagging up potential problems at an early stage  preparing powerpoint presentations and documents for business meetings  using any information gathered to write up detailed reports  highlighting risks and issues that could impact project delivery  able to work accurately  to develop and maintain documentation for internal team training and client end user operations  to work efficiently with team members and across teams  to mentor and train junior team members company  clinical testing lab work and diagnostic testing description  iqvia provides services to its customers this includes: clinical testing lab work and diagnostic testing under clinical trial these customers need to pay to iqvia and aging details and invoices are generated for the same the following are the processes which were covered: tracking payments automated real time metrics reporting dashboard past due notifications ar statements creditrebill responsibilities:  conducting meetings with clients and key stakeholders to gather requirements analyze finalize and have formal signoffs from approvers gather and perform analysis of the business requirements  translating the business requirements into the business requirement document [brd] functional requirement document [frd]  facilitating meetings with the appropriate subject matter experts in both business and technology teams  coordinating with business user community for the execution of user acceptance test as well as tracking issues  working collaborating and coordinating with offshore and onsite team members to fulfill the ba responsibilities from project initiation to postimplementation  reviewing the test scripts with business users as well as technology team execute test scripts with expected results for the system integration test sit and user acceptance test uat  coordinating and conducting the production acceptance testing pat with the business users  creating flow diagrams structure charts and other types of system or process representations  managing changes to requirements and baseline through a change control process  utilizing standard methods design and testing tools throughout project development life cycle  work closely with the operational functional teams operations management and personnel and various technology teams to facilitate a shared understanding of requirements and priorities across all areas company  eduavenir it solution description  project: mbms mbms  is an inventory management application that allows user to manage inventory details of different warehouses having different products located at various locations and help extract what goods have been procured sold or returned by customers it generates automated invoicesalong withcustomized reports it also managescustomer complaint and resolution system implementation along with automated mis on monthly basissales and forecastingis also developed on mis system and the streamlining of process of warehousing and dispatch along with online proof of delivery management system pod documentation is generated responsibilities:  participate in requirement gathering discussion with client to understand the flow of business processes  analyze the requirements and determine the core processes develop process documentation and ensure to stay uptodate in conjunction with ongoing changes  participate in process flow analysis and preparing brd srs  coordinating with developers designers & operations teams for various nuances of the project communicate the stakeholder requirements from requirement enhancement to implementation and finally deliver the same within estimated timeframe  support uat by reviewing test cases manage version control of documents software builds  coordinate with the stakeholders for uat sign off and coordinate internally for production movement till golive stage of the application  provide demo and training to internal and end user using powerpoint presentation  resolving project functional &technical issues during uat  prioritizing the production bugs and resolving the same within the estimated timeframe  preparing project status report and production bugs status to all the stakeholders  promoting and networking for online trading platform  designing query sheet for obtaining and comparison of quotes from various vendors  development of product codes  material codes for inventory management master data management company  capgemini head office description  type: mobile and device testing duration: january 2014  august 2014 follet  an application which takes an electronic request from the user for the books he requires from a particular follet store this detailed information about books that will include the name of the book its price the date of the transaction and the parties involved which will then be sent to follet stores user then create request for one or more books for a given date this request is then processed further and user gets a mail of the date when he will be provided with that book responsibilities:  understanding the needs and business requirements  preparing brd srs by eliciting all the requirements from the client and smes  understanding the dependency of the modules in the system  preparation of test plan for unit level and integration level  preparation and execution of test cases  defect tracking issue resolution risk monitoring status tracking reporting and followup  preparation of test completion report company  capgemini head office description  company  capgemini head office description  humana is a health care insurance project of us which deals with supplying various medicines to citizens as per the doctor's reference and patient's insurance policy this application keeps track of all the medicines user has consumed in the past and generates a patient history a citizen is given a drug only after the doctor's reference so the doctor's information is also linked with the patient's history responsibilities:  understanding the requirements and getting clarifications from client  involved in writing test cases based on test scenarios and execute them  ensuring test coverage using requirement traceability matrix rtm  preparation of test completion report company  capgemini head office description  testing trends wqr world quality report is an application which allows the users to take a survey on different methods and technologies used for testing users can choose to answer any type of questions under three different categories users have a facility to search view and export the data to excel also users get daily and weekly reports through email about the new trends in testing implemented around the globe testing trends wqr app is available on android and ios platforms responsibilities:  understanding the requirements and getting clarifications from client  writing test cases based on test scenarios and executed them  performing different types of testing such as functional integration system and uat  defect resolution and maintenance of the application\"\n        ],\n        \"semantic_type\": \"\",\n        \"description\": \"\"\n      }\n    }\n  ]\n}"
            }
          },
          "metadata": {},
          "execution_count": 20
        }
      ]
    },
    {
      "cell_type": "code",
      "source": [
        "data['Category'].unique()"
      ],
      "metadata": {
        "colab": {
          "base_uri": "https://localhost:8080/"
        },
        "id": "f2HGz8HhxNBQ",
        "outputId": "a1feff15-7e1d-48ce-9214-59a280a51600"
      },
      "execution_count": 21,
      "outputs": [
        {
          "output_type": "execute_result",
          "data": {
            "text/plain": [
              "array([ 6, 12,  0,  1, 24, 16, 22, 14,  5, 15,  4, 21,  2, 11, 18, 20,  8,\n",
              "       17, 19,  7, 13, 10,  9,  3, 23])"
            ]
          },
          "metadata": {},
          "execution_count": 21
        }
      ]
    },
    {
      "cell_type": "code",
      "source": [
        "# array(['Data Science', 'HR', 'Advocate', 'Arts', 'Web Designing',\n",
        "#        'Mechanical Engineer', 'Sales', 'Health and fitness',\n",
        "#        'Civil Engineer', 'Java Developer', 'Business Analyst',\n",
        "#        'SAP Developer', 'Automation Testing', 'Electrical Engineering',\n",
        "#        'Operations Manager', 'Python Developer', 'DevOps Engineer',\n",
        "#        'Network Security Engineer', 'PMO', 'Database', 'Hadoop',\n",
        "#        'ETL Developer', 'DotNet Developer', 'Blockchain', 'Testing'],\n",
        "#       dtype=object)"
      ],
      "metadata": {
        "id": "DXDa6Q9XPmz2"
      },
      "execution_count": null,
      "outputs": []
    },
    {
      "cell_type": "code",
      "source": [
        "from sklearn.feature_extraction.text import TfidfVectorizer\n",
        "tfidf = TfidfVectorizer(stop_words = 'english')\n",
        "\n",
        "tfidf.fit(data['Resume'])\n",
        "vectorizeText = tfidf.transform(data['Resume'])"
      ],
      "metadata": {
        "id": "V-LVW9zEQKan"
      },
      "execution_count": 22,
      "outputs": []
    },
    {
      "cell_type": "code",
      "source": [
        "vectorizeText"
      ],
      "metadata": {
        "colab": {
          "base_uri": "https://localhost:8080/"
        },
        "id": "Iw74ryZKQmVN",
        "outputId": "a693dc10-5aa2-4dfb-f918-bb742b5131b9"
      },
      "execution_count": 23,
      "outputs": [
        {
          "output_type": "execute_result",
          "data": {
            "text/plain": [
              "<962x7857 sparse matrix of type '<class 'numpy.float64'>'\n",
              "\twith 164118 stored elements in Compressed Sparse Row format>"
            ]
          },
          "metadata": {},
          "execution_count": 23
        }
      ]
    },
    {
      "cell_type": "code",
      "source": [
        "from sklearn.model_selection import train_test_split\n",
        "x_train, x_test, y_train, y_test = train_test_split(vectorizeText, data['Category'], test_size=0.2, random_state=42)"
      ],
      "metadata": {
        "id": "Ov555rolRATT"
      },
      "execution_count": 24,
      "outputs": []
    },
    {
      "cell_type": "code",
      "source": [
        "from sklearn import svm\n",
        "from sklearn.metrics import accuracy_score\n",
        "\n",
        "svm_clf = svm.SVC()\n",
        "svm_clf.fit(x_train, y_train)\n",
        "ypred = svm_clf.predict(x_test)\n",
        "print(accuracy_score(y_test, ypred))"
      ],
      "metadata": {
        "colab": {
          "base_uri": "https://localhost:8080/"
        },
        "id": "5cvHflcRR4oF",
        "outputId": "e743e74a-78ed-40ad-a2eb-6e2c7deb6060"
      },
      "execution_count": 25,
      "outputs": [
        {
          "output_type": "stream",
          "name": "stdout",
          "text": [
            "0.9948186528497409\n"
          ]
        }
      ]
    },
    {
      "cell_type": "code",
      "source": [
        "from sklearn import tree\n",
        "\n",
        "dtc_clf = tree.DecisionTreeClassifier()\n",
        "dtc_clf.fit(vectorizeText, data['Category'])\n",
        "ypred_dtc = dtc_clf.predict(x_test)\n",
        "print(accuracy_score(y_test, ypred_dtc))"
      ],
      "metadata": {
        "colab": {
          "base_uri": "https://localhost:8080/"
        },
        "id": "kGpXwjV6R-Zo",
        "outputId": "3932309c-83b9-4f7f-c921-862ea30a782d"
      },
      "execution_count": 26,
      "outputs": [
        {
          "output_type": "stream",
          "name": "stdout",
          "text": [
            "1.0\n"
          ]
        }
      ]
    },
    {
      "cell_type": "code",
      "source": [
        "from sklearn.neighbors import KNeighborsClassifier\n",
        "\n",
        "knn_clf = KNeighborsClassifier()\n",
        "knn_clf.fit(vectorizeText, data['Category'])\n",
        "ypred_knn = knn_clf.predict(x_test)\n",
        "print(accuracy_score(y_test, ypred_knn))"
      ],
      "metadata": {
        "colab": {
          "base_uri": "https://localhost:8080/"
        },
        "id": "hSxMZ3YGTvlz",
        "outputId": "49cbb2de-5984-44ad-99ad-a2b667ecce58"
      },
      "execution_count": 27,
      "outputs": [
        {
          "output_type": "stream",
          "name": "stdout",
          "text": [
            "0.9948186528497409\n"
          ]
        }
      ]
    },
    {
      "cell_type": "code",
      "source": [
        "import pickle\n",
        "path = '/content/drive/MyDrive'\n",
        "pickle.dump(tfidf, open(path + '/tfidf.pkl', 'wb'))\n",
        "pickle.dump(svm_clf, open(path +' /svm_clf.pkl', 'wb'))"
      ],
      "metadata": {
        "id": "TfoCtk1i8hBi"
      },
      "execution_count": 40,
      "outputs": []
    },
    {
      "cell_type": "code",
      "source": [
        "tfidf = pickle.load(open('/content/drive/MyDrive/tfidf.pkl', 'rb'))\n",
        "svm_clf = pickle.load(open('/content/drive/MyDrive/svm_clf.pkl', 'rb'))"
      ],
      "metadata": {
        "id": "uvkBofug9iJv"
      },
      "execution_count": 41,
      "outputs": []
    },
    {
      "cell_type": "code",
      "source": [
        "myResume = '''CAREER OBJECTIVE\n",
        "To succeed in an environment of growth and excellence and earn a job which provides me job satisfaction and self-development and help me achieve personal as well as organizational goals. ________________________________________\n",
        "EDUCATION\n",
        "B. Tech CSE (74%)                                           \t\t                                                                           \t              (2020-2024)\n",
        "Shivalik College of Engineering\n",
        "Senior Secondary School (81%)\t       \t\t\t \t\t\t\t\t             (2019-2020)\n",
        "Secondary School (93%)\t\t\t\t\t\t\t\t\t\t             (2017-2018)\n",
        "________________________________________\n",
        "TECHNICAL SKILLS\n",
        "Programming languages: Java, SQL, HTML\n",
        "Libraries known: Numpy, pandas, matplotlib\n",
        "Application Software: VS Code, Google Colab\n",
        "________________________________________\n",
        "PROJECT\n",
        "Intelligent Traffic Control System for Ambulance Priority using Sound Frequency Recognition\n",
        "•\tDeveloped CNN model achieving 85% accuracy in classifying ambulances at traffic junctions, utilizing distinct datasets of ambulances and cars.\n",
        "•\tIntegrated advanced sound frequency recognition for precise real-time ambulance detection, enabling dynamic manipulation of traffic lights.\n",
        "•\tDesigned and implemented from scratch to address the classification problem of ambulance presence in traffic scenarios, optimizing traffic flow based on model responses.\n",
        "\n",
        "Loan Prediction System\n",
        "•\tDeveloped loan eligibility prediction system using decision tree, logistic regression, and random forest models, achieving highest accuracy of 90% with logistic regression.\n",
        "•\tConducted data visualization using graphs to analyze gender, loan amount and dependents optimizing loan approval predictions.\n",
        "\n",
        "Bhojan-Vidhi\n",
        "•\tWebsite for searching food recipe based on ingredients\n",
        "•\tUsed a food recipe API\n",
        "________________________________________\n",
        "CERTIFICATION / WORKSHOP\n",
        "Training on fundamentals of AWS\n",
        "Workshop on Machine Learning\n",
        "ICEDET conference certificate\n",
        "Web development course from Udemy\n",
        "________________________________________\n",
        "TUTORING EXPERIENCE\n",
        "Duration: June 2020 – March 2024\n",
        "Grade Levels: Tutored students from class 6 to 10\n",
        "'''"
      ],
      "metadata": {
        "id": "FDWr1oJSXqII"
      },
      "execution_count": 29,
      "outputs": []
    },
    {
      "cell_type": "code",
      "source": [
        "category_map = {\n",
        "    6: 'Data Science',\n",
        "    12: 'HR',\n",
        "    0: 'Advocate',\n",
        "    1: 'Arts',\n",
        "    24: 'Web Designing',\n",
        "    16: 'Mechanical Engineer',\n",
        "    22: 'Sales',\n",
        "    14: 'Health and Fitness',\n",
        "    5: 'Civil Enigneer',\n",
        "    15: 'Java Developer',\n",
        "    4: 'Business Analyst',\n",
        "    21: 'SAP Developer',\n",
        "    2: 'Automation Testing',\n",
        "    11: 'Electrical Engineer',\n",
        "    18: 'Operations Manager',\n",
        "    20: 'Python Developer',\n",
        "    8: 'DevOps Engineer',\n",
        "    17: 'Network Security Engineer',\n",
        "    19: 'PMO',\n",
        "    7: 'Database Engineer',\n",
        "    13: 'Big Data Engineer',\n",
        "    10: 'ETL Developer',\n",
        "    9: 'DotNet Developer',\n",
        "    3: 'Blockchain Developer',\n",
        "    23: 'Tester'\n",
        "}"
      ],
      "metadata": {
        "id": "NVXQKfwJ6NV7"
      },
      "execution_count": 30,
      "outputs": []
    },
    {
      "cell_type": "code",
      "source": [
        "cleanResume = cleanResumeText(myResume)\n",
        "\n",
        "vText = tfidf.transform([cleanResume])\n",
        "\n",
        "prediction = svm_clf.predict(vText)\n",
        "\n",
        "print(category_map[prediction[0]])"
      ],
      "metadata": {
        "colab": {
          "base_uri": "https://localhost:8080/"
        },
        "id": "LNPb24hw2Fm0",
        "outputId": "427de392-91fa-4e49-caf4-150870bdd0d3"
      },
      "execution_count": 42,
      "outputs": [
        {
          "output_type": "stream",
          "name": "stdout",
          "text": [
            "Data Science\n"
          ]
        }
      ]
    },
    {
      "cell_type": "code",
      "source": [],
      "metadata": {
        "id": "_g14fnqc2tnO"
      },
      "execution_count": null,
      "outputs": []
    },
    {
      "cell_type": "code",
      "source": [],
      "metadata": {
        "id": "fIqgSEfH4XEV"
      },
      "execution_count": null,
      "outputs": []
    }
  ]
}